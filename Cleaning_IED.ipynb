{
 "cells": [
  {
   "cell_type": "code",
   "execution_count": 29,
   "id": "108ab0bd",
   "metadata": {},
   "outputs": [],
   "source": [
    "#Importar pandas para iniciar con la limpieza de datos\n",
    "\n",
    "import pandas as pd"
   ]
  },
  {
   "cell_type": "code",
   "execution_count": 30,
   "id": "f82ea7a7",
   "metadata": {},
   "outputs": [],
   "source": [
    "# Cargar mi archivo CSV en un DataFrame de Pandas\n",
    "\n",
    "df = pd.read_csv(\"IED_Boyaca_Internet_source.csv\")"
   ]
  },
  {
   "cell_type": "code",
   "execution_count": 31,
   "id": "a3154166",
   "metadata": {},
   "outputs": [
    {
     "data": {
      "text/plain": [
       "(2006, 19)"
      ]
     },
     "execution_count": 31,
     "metadata": {},
     "output_type": "execute_result"
    }
   ],
   "source": [
    "#Mostrar el numero de filas y el numero de columnas de mi Data Frame\n",
    "\n",
    "df.shape"
   ]
  },
  {
   "cell_type": "code",
   "execution_count": 32,
   "id": "08b454bd",
   "metadata": {},
   "outputs": [
    {
     "name": "stdout",
     "output_type": "stream",
     "text": [
      "<class 'pandas.core.frame.DataFrame'>\n",
      "RangeIndex: 2006 entries, 0 to 2005\n",
      "Data columns (total 19 columns):\n",
      " #   Column                             Non-Null Count  Dtype  \n",
      "---  ------                             --------------  -----  \n",
      " 0   CÓDIGO DEPARTAMENTO                2006 non-null   int64  \n",
      " 1   DEPARTAMENTO                       2006 non-null   object \n",
      " 2   PROVINCIA                          2006 non-null   object \n",
      " 3   CÓDIGO MUNICIPIO                   2006 non-null   int64  \n",
      " 4   MUNICIPIO                          2006 non-null   object \n",
      " 5   CODIGO DANE INSTITUCION EDUCATIVA  2006 non-null   int64  \n",
      " 6   NOMBRE INSTITUCION EDUCATIVA       2006 non-null   object \n",
      " 7   CODIGO DANE SEDE                   2006 non-null   int64  \n",
      " 8   NOMBRE SEDE EDUCATIVA              2006 non-null   object \n",
      " 9   ZONA                               2006 non-null   object \n",
      " 10  PROYECTOS DE CONECTIVIDAD 2024     2006 non-null   object \n",
      " 11  OPERADOR                           2006 non-null   object \n",
      " 12  ESTADO                             2006 non-null   object \n",
      " 13  MEDIO DE ENLACE                    123 non-null    object \n",
      " 14  ANCHO DE BANDA DE SUBIDA (MB)      804 non-null    float64\n",
      " 15  ANCHO DE BANDA DESCARGA (MB)       1104 non-null   float64\n",
      " 16  FINALIZACIÓN DEL CONTRATO          1104 non-null   object \n",
      " 17  LATITUD                            1926 non-null   float64\n",
      " 18  LONGITUD                           1926 non-null   float64\n",
      "dtypes: float64(4), int64(4), object(11)\n",
      "memory usage: 297.9+ KB\n"
     ]
    }
   ],
   "source": [
    "# Mostrar un resumen de mi Data Frame\n",
    "df.info()"
   ]
  },
  {
   "cell_type": "code",
   "execution_count": 39,
   "id": "e17218f3",
   "metadata": {},
   "outputs": [],
   "source": [
    "#Eliminamos algunas columnas innecesarias para el analisis y guardar el resultado en un nuevo DataFrame llamado df_cleaned\n",
    "\n",
    "df_cleaned = df.drop(columns=[\"CÓDIGO DEPARTAMENTO\",\"DEPARTAMENTO\", \"CÓDIGO MUNICIPIO\", \"CODIGO DANE INSTITUCION EDUCATIVA\", \"CODIGO DANE SEDE\"])"
   ]
  },
  {
   "cell_type": "code",
   "execution_count": 34,
   "id": "d25b50c0",
   "metadata": {},
   "outputs": [
    {
     "name": "stdout",
     "output_type": "stream",
     "text": [
      "<class 'pandas.core.frame.DataFrame'>\n",
      "RangeIndex: 2006 entries, 0 to 2005\n",
      "Data columns (total 14 columns):\n",
      " #   Column                          Non-Null Count  Dtype  \n",
      "---  ------                          --------------  -----  \n",
      " 0   PROVINCIA                       2006 non-null   object \n",
      " 1   MUNICIPIO                       2006 non-null   object \n",
      " 2   NOMBRE INSTITUCION EDUCATIVA    2006 non-null   object \n",
      " 3   NOMBRE SEDE EDUCATIVA           2006 non-null   object \n",
      " 4   ZONA                            2006 non-null   object \n",
      " 5   PROYECTOS DE CONECTIVIDAD 2024  2006 non-null   object \n",
      " 6   OPERADOR                        2006 non-null   object \n",
      " 7   ESTADO                          2006 non-null   object \n",
      " 8   MEDIO DE ENLACE                 123 non-null    object \n",
      " 9   ANCHO DE BANDA DE SUBIDA (MB)   804 non-null    float64\n",
      " 10  ANCHO DE BANDA DESCARGA (MB)    1104 non-null   float64\n",
      " 11  FINALIZACIÓN DEL CONTRATO       1104 non-null   object \n",
      " 12  LATITUD                         1926 non-null   float64\n",
      " 13  LONGITUD                        1926 non-null   float64\n",
      "dtypes: float64(4), object(10)\n",
      "memory usage: 219.5+ KB\n"
     ]
    }
   ],
   "source": [
    "# Mostrar nuevamente el resumen de mi Data Frame para validar que se han eliminado las columnas innecesarias \n",
    "\n",
    "df_cleaned.info()"
   ]
  },
  {
   "cell_type": "code",
   "execution_count": 42,
   "id": "94f2a627",
   "metadata": {},
   "outputs": [],
   "source": [
    "#Renombrar algunas columnas de mi Data Frame\n",
    "\n",
    "#NOMBRE INSTITUCION EDUCATIVA\n",
    "df_cleaned.rename(columns={'NOMBRE INSTITUCION EDUCATIVA': 'INSTITUCION_EDUCATIVA'}, inplace=True)\n",
    "\n",
    "#NOMBRE SEDE EDUCATIVA\n",
    "df_cleaned.rename(columns={'NOMBRE SEDE EDUCATIVA': 'SEDE_EDUCATIVA'}, inplace=True)\n",
    "\n",
    "#PROYECTOS DE CONECTIVIDAD 2024\n",
    "df_cleaned.rename(columns={'PROYECTOS DE CONECTIVIDAD 2024': 'PROYECTOS_CONECTIVIDAD_2024'}, inplace=True)\n",
    "\n",
    "#MEDIO DE ENLACE\n",
    "df_cleaned.rename(columns={'MEDIO DE ENLACE': 'MEDIO_ENLACE'}, inplace=True)\n",
    "\n",
    "#ANCHO DE BANDA DE SUBIDA (MB)\n",
    "df_cleaned.rename(columns={'ANCHO DE BANDA DE SUBIDA (MB)': 'ANCHO_BANDA_SUBIDA_MB'}, inplace=True)\n",
    "\n",
    "#ANCHO DE BANDA DESCARGA (MB)\n",
    "df_cleaned.rename(columns={'ANCHO DE BANDA DESCARGA (MB)': 'ANCHO_BANDA_DESCARGA_MB'}, inplace=True)\n",
    "\n",
    "#FINALIZACIÓN DEL CONTRATO\n",
    "df_cleaned.rename(columns={'FINALIZACIÓN DEL CONTRATO': 'FINALIZACION_CONTRATO'}, inplace=True)"
   ]
  },
  {
   "cell_type": "code",
   "execution_count": null,
   "id": "dd76917e",
   "metadata": {},
   "outputs": [
    {
     "name": "stdout",
     "output_type": "stream",
     "text": [
      "<class 'pandas.core.frame.DataFrame'>\n",
      "RangeIndex: 2006 entries, 0 to 2005\n",
      "Data columns (total 14 columns):\n",
      " #   Column                       Non-Null Count  Dtype  \n",
      "---  ------                       --------------  -----  \n",
      " 0   PROVINCIA                    2006 non-null   object \n",
      " 1   MUNICIPIO                    2006 non-null   object \n",
      " 2   INSTITUCION_EDUCATIVA        2006 non-null   object \n",
      " 3   SEDE_EDUCATIVA               2006 non-null   object \n",
      " 4   ZONA                         2006 non-null   object \n",
      " 5   PROYECTOS_CONECTIVIDAD_2024  2006 non-null   object \n",
      " 6   OPERADOR                     2006 non-null   object \n",
      " 7   ESTADO                       2006 non-null   object \n",
      " 8   MEDIO_ENLACE                 123 non-null    object \n",
      " 9   ANCHO_BANDA_SUBIDA_MB        804 non-null    float64\n",
      " 10  ANCHO_BANDA_DESCARGA_MB      1104 non-null   float64\n",
      " 11  FINALIZACION_CONTRATO        1104 non-null   object \n",
      " 12  LATITUD                      1926 non-null   float64\n",
      " 13  LONGITUD                     1926 non-null   float64\n",
      "dtypes: float64(4), object(10)\n",
      "memory usage: 219.5+ KB\n"
     ]
    }
   ],
   "source": [
    "#Mostrar un resumen de mi Data Frame\n",
    "df_cleaned.info()"
   ]
  },
  {
   "cell_type": "code",
   "execution_count": null,
   "id": "6dec7f6b",
   "metadata": {},
   "outputs": [],
   "source": [
    "#Reemplazar en la columnna \"Medio Enlace\" los valores vacios por \"NA\"\n",
    "df_cleaned['MEDIO_ENLACE'] = df_cleaned['MEDIO_ENLACE'].fillna(\"NA\")"
   ]
  },
  {
   "cell_type": "code",
   "execution_count": null,
   "id": "3bc65cad",
   "metadata": {},
   "outputs": [
    {
     "data": {
      "text/plain": [
       "['FIBRA', 'NA', 'RADIO ENLACE', 'SATELITAL']"
      ]
     },
     "execution_count": 47,
     "metadata": {},
     "output_type": "execute_result"
    }
   ],
   "source": [
    "#Mostrar los datos de la columna \"Medio Enlace\" en forma alfabetica\n",
    "sorted(df_cleaned.MEDIO_ENLACE.unique())"
   ]
  },
  {
   "cell_type": "code",
   "execution_count": 61,
   "id": "cd0e0603",
   "metadata": {},
   "outputs": [],
   "source": [
    "#Reemplazar en la columnna \"ANCHO DE BANDA DE SUBIDA\" los valores vacios por \"NA\"\n",
    "df_cleaned['ANCHO_BANDA_SUBIDA_MB'] = pd.to_numeric(df_cleaned[\"ANCHO_BANDA_SUBIDA_MB\"], errors='coerce')\n",
    "df_cleaned[\"ANCHO_BANDA_SUBIDA_MB\"] = df_cleaned[\"ANCHO_BANDA_SUBIDA_MB\"].fillna(0).astype(int)"
   ]
  },
  {
   "cell_type": "code",
   "execution_count": 64,
   "id": "d1ce2f0e",
   "metadata": {},
   "outputs": [],
   "source": [
    "#Reemplazar en la columnna \"ANCHO DE BANDA DE DESCARGA\" los valores vacios por \"NA\"\n",
    "df_cleaned['ANCHO_BANDA_DESCARGA_MB'] = pd.to_numeric(df_cleaned[\"ANCHO_BANDA_DESCARGA_MB\"], errors='coerce')\n",
    "df_cleaned[\"ANCHO_BANDA_DESCARGA_MB\"] = df_cleaned[\"ANCHO_BANDA_DESCARGA_MB\"].fillna(0).astype(int)"
   ]
  },
  {
   "cell_type": "code",
   "execution_count": 51,
   "id": "78f34a54",
   "metadata": {},
   "outputs": [],
   "source": [
    "#Reemplazar en la columnna \"FINALIZACION DE CONTRATO\" los valores vacios por \"NA\"\n",
    "df_cleaned['FINALIZACION_CONTRATO'] = df_cleaned['FINALIZACION_CONTRATO'].fillna(\"NA\")"
   ]
  },
  {
   "cell_type": "code",
   "execution_count": 53,
   "id": "dc959299",
   "metadata": {},
   "outputs": [],
   "source": [
    "#Reemplazar en la columnna \"LATITUD\" los valores vacios por \"NA\"\n",
    "df_cleaned['LATITUD'] = df_cleaned['LATITUD'].fillna(\"NA\")"
   ]
  },
  {
   "cell_type": "code",
   "execution_count": 52,
   "id": "df5f9c2e",
   "metadata": {},
   "outputs": [],
   "source": [
    "#Reemplazar en la columnna \"LONGITUD\" los valores vacios por \"NA\"\n",
    "df_cleaned['LONGITUD'] = df_cleaned['LONGITUD'].fillna(\"NA\")"
   ]
  },
  {
   "cell_type": "code",
   "execution_count": 65,
   "id": "c79b2e42",
   "metadata": {},
   "outputs": [
    {
     "name": "stdout",
     "output_type": "stream",
     "text": [
      "<class 'pandas.core.frame.DataFrame'>\n",
      "RangeIndex: 2006 entries, 0 to 2005\n",
      "Data columns (total 14 columns):\n",
      " #   Column                       Non-Null Count  Dtype \n",
      "---  ------                       --------------  ----- \n",
      " 0   PROVINCIA                    2006 non-null   string\n",
      " 1   MUNICIPIO                    2006 non-null   string\n",
      " 2   INSTITUCION_EDUCATIVA        2006 non-null   string\n",
      " 3   SEDE_EDUCATIVA               2006 non-null   string\n",
      " 4   ZONA                         2006 non-null   string\n",
      " 5   PROYECTOS_CONECTIVIDAD_2024  2006 non-null   string\n",
      " 6   OPERADOR                     2006 non-null   string\n",
      " 7   ESTADO                       2006 non-null   string\n",
      " 8   MEDIO_ENLACE                 2006 non-null   string\n",
      " 9   ANCHO_BANDA_SUBIDA_MB        2006 non-null   int64 \n",
      " 10  ANCHO_BANDA_DESCARGA_MB      2006 non-null   int64 \n",
      " 11  FINALIZACION_CONTRATO        2006 non-null   object\n",
      " 12  LATITUD                      2006 non-null   object\n",
      " 13  LONGITUD                     2006 non-null   object\n",
      "dtypes: int64(2), object(3), string(9)\n",
      "memory usage: 219.5+ KB\n"
     ]
    }
   ],
   "source": [
    "#Mostrar un resumen de mi Data Frame\n",
    "df_cleaned.info()"
   ]
  },
  {
   "cell_type": "code",
   "execution_count": 71,
   "id": "0bcd2c61",
   "metadata": {},
   "outputs": [],
   "source": [
    "# Ajustar de tipos de datos para futuros analisis y mostrar su ajuste en el Data Frame\n",
    "\n",
    "df_cleaned['PROVINCIA'] = df_cleaned['PROVINCIA'].astype('string')\n",
    "df_cleaned['MUNICIPIO'] = df_cleaned['MUNICIPIO'].astype('string')\n",
    "df_cleaned['INSTITUCION_EDUCATIVA'] = df_cleaned['INSTITUCION_EDUCATIVA'].astype('string')\n",
    "df_cleaned['SEDE_EDUCATIVA'] = df_cleaned['SEDE_EDUCATIVA'].astype('string')\n",
    "df_cleaned['ZONA'] = df_cleaned['ZONA'].astype('string')\n",
    "df_cleaned['PROYECTOS_CONECTIVIDAD_2024'] = df_cleaned['PROYECTOS_CONECTIVIDAD_2024'].astype('string')\n",
    "df_cleaned['OPERADOR'] = df_cleaned['OPERADOR'].astype('string')\n",
    "df_cleaned['ESTADO'] = df_cleaned['ESTADO'].astype('string')\n",
    "df_cleaned['MEDIO_ENLACE'] = df_cleaned['MEDIO_ENLACE'].astype('string')\n",
    "df_cleaned['ANCHO_BANDA_SUBIDA_MB'] = df_cleaned['ANCHO_BANDA_SUBIDA_MB'].astype('float')\n",
    "df_cleaned['ANCHO_BANDA_DESCARGA_MB'] = df_cleaned['ANCHO_BANDA_DESCARGA_MB'].astype('int')\n",
    "df_cleaned['LATITUD'] = df_cleaned['LATITUD'].astype('string')\n",
    "df_cleaned['LONGITUD'] = df_cleaned['LONGITUD'].astype('string')\n"
   ]
  },
  {
   "cell_type": "code",
   "execution_count": 72,
   "id": "bff59f25",
   "metadata": {},
   "outputs": [
    {
     "name": "stdout",
     "output_type": "stream",
     "text": [
      "<class 'pandas.core.frame.DataFrame'>\n",
      "RangeIndex: 2006 entries, 0 to 2005\n",
      "Data columns (total 14 columns):\n",
      " #   Column                       Non-Null Count  Dtype         \n",
      "---  ------                       --------------  -----         \n",
      " 0   PROVINCIA                    2006 non-null   string        \n",
      " 1   MUNICIPIO                    2006 non-null   string        \n",
      " 2   INSTITUCION_EDUCATIVA        2006 non-null   string        \n",
      " 3   SEDE_EDUCATIVA               2006 non-null   string        \n",
      " 4   ZONA                         2006 non-null   string        \n",
      " 5   PROYECTOS_CONECTIVIDAD_2024  2006 non-null   string        \n",
      " 6   OPERADOR                     2006 non-null   string        \n",
      " 7   ESTADO                       2006 non-null   string        \n",
      " 8   MEDIO_ENLACE                 2006 non-null   string        \n",
      " 9   ANCHO_BANDA_SUBIDA_MB        2006 non-null   float64       \n",
      " 10  ANCHO_BANDA_DESCARGA_MB      2006 non-null   int64         \n",
      " 11  FINALIZACION_CONTRATO        1104 non-null   datetime64[ns]\n",
      " 12  LATITUD                      2006 non-null   string        \n",
      " 13  LONGITUD                     2006 non-null   string        \n",
      "dtypes: datetime64[ns](1), float64(1), int64(1), string(11)\n",
      "memory usage: 219.5 KB\n"
     ]
    }
   ],
   "source": [
    "# Mostrar un resumen de mi Data Frame, para validar las columnas, y cantidad de filas, y el tipo de datos que tenemos listo para analizar\n",
    "\n",
    "df_cleaned.info()"
   ]
  },
  {
   "cell_type": "code",
   "execution_count": 73,
   "id": "86cdda24",
   "metadata": {},
   "outputs": [
    {
     "name": "stdout",
     "output_type": "stream",
     "text": [
      "\n",
      "El archivo CSV ha sido guardado.\n"
     ]
    }
   ],
   "source": [
    "# Guardar el nuevo Data Frame con los ajustes realizados en un archivo CSV\n",
    "\n",
    "df_cleaned.to_csv(\"IED_Boyaca_Internet_clean.csv\", index=False)\n",
    "\n",
    "print(\"\\nEl archivo CSV ha sido guardado.\")"
   ]
  }
 ],
 "metadata": {
  "kernelspec": {
   "display_name": "Python 3",
   "language": "python",
   "name": "python3"
  },
  "language_info": {
   "codemirror_mode": {
    "name": "ipython",
    "version": 3
   },
   "file_extension": ".py",
   "mimetype": "text/x-python",
   "name": "python",
   "nbconvert_exporter": "python",
   "pygments_lexer": "ipython3",
   "version": "3.13.2"
  }
 },
 "nbformat": 4,
 "nbformat_minor": 5
}
