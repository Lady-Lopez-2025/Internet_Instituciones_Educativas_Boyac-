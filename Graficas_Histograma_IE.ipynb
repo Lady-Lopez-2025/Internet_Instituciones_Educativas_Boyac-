{
 "cells": [
  {
   "cell_type": "code",
   "execution_count": 14,
   "id": "704fc7d3",
   "metadata": {},
   "outputs": [],
   "source": [
    "#Utilizo la libreria de Pandas\n",
    "\n",
    "import pandas as pf"
   ]
  },
  {
   "cell_type": "code",
   "execution_count": 15,
   "id": "cf53bafe",
   "metadata": {},
   "outputs": [],
   "source": [
    "#Guardo los datos del CSV en un Data Frame llamado df\n",
    "df=pf.read_csv(\"IED_Boyaca_Internet_clean.csv\")"
   ]
  },
  {
   "cell_type": "code",
   "execution_count": 16,
   "id": "b2bd522c",
   "metadata": {},
   "outputs": [
    {
     "name": "stdout",
     "output_type": "stream",
     "text": [
      "<class 'pandas.core.frame.DataFrame'>\n",
      "RangeIndex: 2006 entries, 0 to 2005\n",
      "Data columns (total 14 columns):\n",
      " #   Column                       Non-Null Count  Dtype  \n",
      "---  ------                       --------------  -----  \n",
      " 0   PROVINCIA                    2006 non-null   object \n",
      " 1   MUNICIPIO                    2006 non-null   object \n",
      " 2   INSTITUCION_EDUCATIVA        2006 non-null   object \n",
      " 3   SEDE_EDUCATIVA               2006 non-null   object \n",
      " 4   ZONA                         2006 non-null   object \n",
      " 5   PROYECTOS_CONECTIVIDAD_2024  2006 non-null   object \n",
      " 6   OPERADOR                     2006 non-null   object \n",
      " 7   ESTADO                       2006 non-null   object \n",
      " 8   MEDIO_ENLACE                 123 non-null    object \n",
      " 9   ANCHO_BANDA_SUBIDA_MB        2006 non-null   float64\n",
      " 10  ANCHO_BANDA_DESCARGA_MB      2006 non-null   int64  \n",
      " 11  FINALIZACION_CONTRATO        1104 non-null   object \n",
      " 12  LATITUD                      1926 non-null   float64\n",
      " 13  LONGITUD                     1926 non-null   float64\n",
      "dtypes: float64(3), int64(1), object(10)\n",
      "memory usage: 219.5+ KB\n"
     ]
    }
   ],
   "source": [
    "#Validamos el tipo de datos de toda la informacion que vamos a analizar.\n",
    "df.info()"
   ]
  },
  {
   "cell_type": "code",
   "execution_count": 17,
   "id": "a1971891",
   "metadata": {},
   "outputs": [
    {
     "data": {
      "text/plain": [
       "(2006, 14)"
      ]
     },
     "execution_count": 17,
     "metadata": {},
     "output_type": "execute_result"
    }
   ],
   "source": [
    "df.shape"
   ]
  },
  {
   "cell_type": "code",
   "execution_count": 18,
   "id": "dec441f6",
   "metadata": {},
   "outputs": [
    {
     "data": {
      "text/plain": [
       "ANCHO_BANDA_DESCARGA_MB\n",
       "0     902\n",
       "10    123\n",
       "12    523\n",
       "15    194\n",
       "18     29\n",
       "20    230\n",
       "21      5\n",
       "Name: count, dtype: int64"
      ]
     },
     "execution_count": 18,
     "metadata": {},
     "output_type": "execute_result"
    }
   ],
   "source": [
    "#Analizaremos los datos del ancho de banda de descarga del servicio de internet en las instituciones educativas\n",
    "df[\"ANCHO_BANDA_DESCARGA_MB\"].value_counts().sort_index()\n"
   ]
  },
  {
   "cell_type": "code",
   "execution_count": 19,
   "id": "a7388950",
   "metadata": {},
   "outputs": [
    {
     "data": {
      "text/plain": [
       "ANCHO_BANDA_SUBIDA_MB\n",
       "0.0     1202\n",
       "3.0      647\n",
       "4.0       29\n",
       "5.0        5\n",
       "10.0     123\n",
       "Name: count, dtype: int64"
      ]
     },
     "execution_count": 19,
     "metadata": {},
     "output_type": "execute_result"
    }
   ],
   "source": [
    "#Tambien analizaremos los datos del ancho de banda de subida del servicio de internet en las instituciones educativas\n",
    "df[\"ANCHO_BANDA_SUBIDA_MB\"].value_counts().sort_index()"
   ]
  },
  {
   "cell_type": "code",
   "execution_count": 20,
   "id": "8f12a3de",
   "metadata": {},
   "outputs": [],
   "source": [
    "#Importamos las librerias necesarias para empezar a hacer el analisis de los datos\n",
    "\n",
    "import pandas as pd\n",
    "import matplotlib.pyplot as plt\n",
    "from matplotlib.ticker import FuncFormatter"
   ]
  },
  {
   "cell_type": "code",
   "execution_count": 21,
   "id": "eb105887",
   "metadata": {},
   "outputs": [
    {
     "name": "stdout",
     "output_type": "stream",
     "text": [
      "Instituciones sin servicio de internet: 902\n"
     ]
    },
    {
     "data": {
      "image/png": "[encoded data removed]",
      "text/plain": [
       "<Figure size 640x480 with 1 Axes>"
      ]
     },
     "metadata": {},
     "output_type": "display_data"
    }
   ],
   "source": [
    "#Analizaremos entonces el ancho de bada de descarga en MB que tiene el servicio de internet que se presta en las instituciones educativas\n",
    "\n",
    "#Definimos las variables con las que vamos a trabajar:\n",
    "Banda_Descarga =sorted(df[\"ANCHO_BANDA_DESCARGA_MB\"].unique())\n",
    "datos_filtrados = df[df[\"ANCHO_BANDA_DESCARGA_MB\"] != 0]\n",
    "\n",
    "\n",
    "plt.xticks(Banda_Descarga)\n",
    "\n",
    "# Contar y mostrar cuántas instituciones no tienen servicio\n",
    "sin_servicio = df[df[\"ANCHO_BANDA_DESCARGA_MB\"] == 0].shape[0]\n",
    "print(f\"Instituciones sin servicio de internet: {sin_servicio}\")\n",
    "\n",
    "plt.title('Velocidad de descarga (MB)')\n",
    "plt.xlabel('Ancho de Banda de Descarga MB')\n",
    "plt.ylabel('Frecuencia')\n",
    "\n",
    "\n",
    "n, bins, patches = plt.hist(datos_filtrados[\"ANCHO_BANDA_DESCARGA_MB\"], color=\"blue\")\n",
    "\n",
    "plt.show()\n",
    "\n"
   ]
  },
  {
   "cell_type": "code",
   "execution_count": null,
   "id": "6f5c1800",
   "metadata": {},
   "outputs": [],
   "source": [
    "#De acuerdo a estos resultados que nos muestran la distribucion del ancho de banda de descarga en las instituciones educativas del Departamento de Boyacá, que cuentan con el servicio de internet...\n",
    "#...se ve una alta concentracion de los datos con instituciones con un acceso igual o menor a 12 MG, lo cual puede ser muy basico en cuanto velocidad, y tal vez esto pueda impactar en el acceso a ...\n",
    "#...algunas plataformas o contenidos que requieran los estudiantes y docentes de la institución.\n",
    "# La dispersión de los datos indicaría que hay brechas significativas en la calidad del servicio de internet que se presta en las instituciones."
   ]
  },
  {
   "cell_type": "code",
   "execution_count": 24,
   "id": "a80102a6",
   "metadata": {},
   "outputs": [
    {
     "name": "stdout",
     "output_type": "stream",
     "text": [
      "Instituciones sin servicio de internet: 1202\n"
     ]
    },
    {
     "data": {
      "image/png": "[encoded data removed]",
      "text/plain": [
       "<Figure size 640x480 with 1 Axes>"
      ]
     },
     "metadata": {},
     "output_type": "display_data"
    }
   ],
   "source": [
    "#Analizaremos entonces el ancho de bada de subida en MB que tiene el servicio de internet que se presta en las instituciones educativas\n",
    "\n",
    "#Definimos las variables con las que vamos a trabajar:\n",
    "Banda_Descarga =sorted(df[\"ANCHO_BANDA_SUBIDA_MB\"].unique())\n",
    "datos_filtrados = df[df[\"ANCHO_BANDA_SUBIDA_MB\"] != 0]\n",
    "\n",
    "\n",
    "plt.xticks(Banda_Descarga)\n",
    "\n",
    "# Contar y mostrar cuántas instituciones no tienen servicio\n",
    "sin_servicio = df[df[\"ANCHO_BANDA_SUBIDA_MB\"] == 0].shape[0]\n",
    "print(f\"Instituciones sin servicio de internet: {sin_servicio}\")\n",
    "\n",
    "plt.title('Velocidad de Subida (MB)')\n",
    "plt.xlabel('Ancho de Banda de Subida MB')\n",
    "plt.ylabel('Frecuencia')\n",
    "\n",
    "\n",
    "n, bins, patches = plt.hist(datos_filtrados[\"ANCHO_BANDA_SUBIDA_MB\"], color=\"#4F4FE0\")\n",
    "\n",
    "plt.show()"
   ]
  },
  {
   "cell_type": "code",
   "execution_count": null,
   "id": "e2833094",
   "metadata": {},
   "outputs": [],
   "source": [
    "#De acuerdo a estos resultados que nos muestran la distribucion del ancho de banda de subida en las instituciones educativas del Departamento de Boyacá, y haciendo una comparacion rapida con el ancho de descarga;\n",
    "#  esta primera conectividad es mucho mas limitada que la de descarga, lo cual impactaria notoriamente en la en la capacidad de envio de archivos o clases virtuales. Esto nos daria una señal para analizar otras variables\n",
    "# que permitieran mejorar la calidad del servicio de internet."
   ]
  }
 ],
 "metadata": {
  "kernelspec": {
   "display_name": "Python 3",
   "language": "python",
   "name": "python3"
  },
  "language_info": {
   "codemirror_mode": {
    "name": "ipython",
    "version": 3
   },
   "file_extension": ".py",
   "mimetype": "text/x-python",
   "name": "python",
   "nbconvert_exporter": "python",
   "pygments_lexer": "ipython3",
   "version": "3.13.2"
  }
 },
 "nbformat": 4,
 "nbformat_minor": 5
}
