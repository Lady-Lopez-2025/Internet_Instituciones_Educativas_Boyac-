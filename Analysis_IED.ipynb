{
 "cells": [
  {
   "cell_type": "code",
   "execution_count": 53,
   "metadata": {},
   "outputs": [],
   "source": [
    "#Utilizo libreria de pandas\n",
    "\n",
    "import pandas as pd\n"
   ]
  },
  {
   "cell_type": "code",
   "execution_count": 54,
   "metadata": {},
   "outputs": [],
   "source": [
    "#Guardo los datos del CSV en un Data Frame llamado df\n",
    "\n",
    "df = pd.read_csv (\"Instituciones_Educativas_Boyaca_Internet.csv\")"
   ]
  },
  {
   "cell_type": "code",
   "execution_count": 55,
   "metadata": {},
   "outputs": [
    {
     "data": {
      "text/plain": [
       "(2006, 19)"
      ]
     },
     "execution_count": 55,
     "metadata": {},
     "output_type": "execute_result"
    }
   ],
   "source": [
    "# Devuelve una tupla que representa la dimensionalidad del DataFrame.\n",
    "# Primer valor  = Número de filas, incluyendo el encabezado.\n",
    "# Segundo valor = Número de columnas.\n",
    "\n",
    "df.shape"
   ]
  },
  {
   "cell_type": "code",
   "execution_count": 56,
   "metadata": {},
   "outputs": [
    {
     "name": "stdout",
     "output_type": "stream",
     "text": [
      "<class 'pandas.core.frame.DataFrame'>\n",
      "RangeIndex: 2006 entries, 0 to 2005\n",
      "Data columns (total 19 columns):\n",
      " #   Column                             Non-Null Count  Dtype  \n",
      "---  ------                             --------------  -----  \n",
      " 0   CÓDIGO DEPARTAMENTO                2006 non-null   int64  \n",
      " 1   DEPARTAMENTO                       2006 non-null   object \n",
      " 2   PROVINCIA                          2006 non-null   object \n",
      " 3   CÓDIGO MUNICIPIO                   2006 non-null   int64  \n",
      " 4   MUNICIPIO                          2006 non-null   object \n",
      " 5   CODIGO DANE INSTITUCION EDUCATIVA  2006 non-null   int64  \n",
      " 6   NOMBRE INSTITUCION EDUCATIVA       2006 non-null   object \n",
      " 7   CODIGO DANE SEDE                   2006 non-null   int64  \n",
      " 8   NOMBRE SEDE EDUCATIVA              2006 non-null   object \n",
      " 9   ZONA                               2006 non-null   object \n",
      " 10  PROYECTOS DE CONECTIVIDAD 2024     2006 non-null   object \n",
      " 11  OPERADOR                           2006 non-null   object \n",
      " 12  ESTADO                             2006 non-null   object \n",
      " 13  MEDIO DE ENLACE                    123 non-null    object \n",
      " 14  ANCHO DE BANDA DE SUBIDA (MB)      804 non-null    float64\n",
      " 15  ANCHO DE BANDA DESCARGA (MB)       1104 non-null   float64\n",
      " 16  FINALIZACIÓN DEL CONTRATO          1104 non-null   object \n",
      " 17  LATITUD                            1926 non-null   float64\n",
      " 18  LONGITUD                           1926 non-null   float64\n",
      "dtypes: float64(4), int64(4), object(11)\n",
      "memory usage: 297.9+ KB\n"
     ]
    }
   ],
   "source": [
    "# El objeto DataFrame tiene un método llamado info(), que proporciona más información sobre el conjunto de datos.\n",
    "\n",
    "df.info()"
   ]
  },
  {
   "cell_type": "code",
   "execution_count": 57,
   "metadata": {},
   "outputs": [
    {
     "data": {
      "text/html": [
       "<div>\n",
       "<style scoped>\n",
       "    .dataframe tbody tr th:only-of-type {\n",
       "        vertical-align: middle;\n",
       "    }\n",
       "\n",
       "    .dataframe tbody tr th {\n",
       "        vertical-align: top;\n",
       "    }\n",
       "\n",
       "    .dataframe thead th {\n",
       "        text-align: right;\n",
       "    }\n",
       "</style>\n",
       "<table border=\"1\" class=\"dataframe\">\n",
       "  <thead>\n",
       "    <tr style=\"text-align: right;\">\n",
       "      <th></th>\n",
       "      <th>CÓDIGO DEPARTAMENTO</th>\n",
       "      <th>DEPARTAMENTO</th>\n",
       "      <th>PROVINCIA</th>\n",
       "      <th>CÓDIGO MUNICIPIO</th>\n",
       "      <th>MUNICIPIO</th>\n",
       "      <th>CODIGO DANE INSTITUCION EDUCATIVA</th>\n",
       "      <th>NOMBRE INSTITUCION EDUCATIVA</th>\n",
       "      <th>CODIGO DANE SEDE</th>\n",
       "      <th>NOMBRE SEDE EDUCATIVA</th>\n",
       "      <th>ZONA</th>\n",
       "      <th>PROYECTOS DE CONECTIVIDAD 2024</th>\n",
       "      <th>OPERADOR</th>\n",
       "      <th>ESTADO</th>\n",
       "      <th>MEDIO DE ENLACE</th>\n",
       "      <th>ANCHO DE BANDA DE SUBIDA (MB)</th>\n",
       "      <th>ANCHO DE BANDA DESCARGA (MB)</th>\n",
       "      <th>FINALIZACIÓN DEL CONTRATO</th>\n",
       "      <th>LATITUD</th>\n",
       "      <th>LONGITUD</th>\n",
       "    </tr>\n",
       "  </thead>\n",
       "  <tbody>\n",
       "    <tr>\n",
       "      <th>0</th>\n",
       "      <td>15</td>\n",
       "      <td>BOYACÁ</td>\n",
       "      <td>ORIENTE</td>\n",
       "      <td>15022</td>\n",
       "      <td>ALMEIDA</td>\n",
       "      <td>315022000196</td>\n",
       "      <td>I.E. ENRIQUE SUAREZ</td>\n",
       "      <td>215022000078</td>\n",
       "      <td>ESC EL ROSAL</td>\n",
       "      <td>RURAL</td>\n",
       "      <td>CENTRO DIGITAL</td>\n",
       "      <td>UNIÓN TEMPORAL DE ETB NET COLOMBIA CONECTADA</td>\n",
       "      <td>EN OPERACIÓN</td>\n",
       "      <td>NaN</td>\n",
       "      <td>3.00</td>\n",
       "      <td>12.0</td>\n",
       "      <td>12/01/2032 12:00:00 AM</td>\n",
       "      <td>4.945062</td>\n",
       "      <td>-73.380849</td>\n",
       "    </tr>\n",
       "    <tr>\n",
       "      <th>1</th>\n",
       "      <td>15</td>\n",
       "      <td>BOYACÁ</td>\n",
       "      <td>SUGAMUXI</td>\n",
       "      <td>15047</td>\n",
       "      <td>AQUITANIA</td>\n",
       "      <td>115047000019</td>\n",
       "      <td>I.E. TECNICA RAMON IGNACIO AVELLA</td>\n",
       "      <td>215047000196</td>\n",
       "      <td>ESC CAJON</td>\n",
       "      <td>RURAL</td>\n",
       "      <td>CENTRO DIGITAL</td>\n",
       "      <td>UNIÓN TEMPORAL DE ETB NET COLOMBIA CONECTADA</td>\n",
       "      <td>PENDIENTE INICIO OPERACIÓN</td>\n",
       "      <td>NaN</td>\n",
       "      <td>3.00</td>\n",
       "      <td>12.0</td>\n",
       "      <td>12/01/2032 12:00:00 AM</td>\n",
       "      <td>5.369444</td>\n",
       "      <td>-72.881389</td>\n",
       "    </tr>\n",
       "    <tr>\n",
       "      <th>2</th>\n",
       "      <td>15</td>\n",
       "      <td>BOYACÁ</td>\n",
       "      <td>SUGAMUXI</td>\n",
       "      <td>15047</td>\n",
       "      <td>AQUITANIA</td>\n",
       "      <td>115047000019</td>\n",
       "      <td>I.E. TECNICA RAMON IGNACIO AVELLA</td>\n",
       "      <td>215047000439</td>\n",
       "      <td>ESC DAITO</td>\n",
       "      <td>RURAL</td>\n",
       "      <td>CENTRO DIGITAL</td>\n",
       "      <td>UNIÓN TEMPORAL DE ETB NET COLOMBIA CONECTADA</td>\n",
       "      <td>EN OPERACIÓN</td>\n",
       "      <td>NaN</td>\n",
       "      <td>3.75</td>\n",
       "      <td>15.0</td>\n",
       "      <td>12/01/2032 12:00:00 AM</td>\n",
       "      <td>5.498778</td>\n",
       "      <td>-72.912650</td>\n",
       "    </tr>\n",
       "    <tr>\n",
       "      <th>3</th>\n",
       "      <td>15</td>\n",
       "      <td>BOYACÁ</td>\n",
       "      <td>SUGAMUXI</td>\n",
       "      <td>15047</td>\n",
       "      <td>AQUITANIA</td>\n",
       "      <td>215047000099</td>\n",
       "      <td>I.E. REGION SUR DE AQUITANIA</td>\n",
       "      <td>215047000579</td>\n",
       "      <td>ESC DIGANOME</td>\n",
       "      <td>RURAL</td>\n",
       "      <td>CENTRO DIGITAL</td>\n",
       "      <td>UNIÓN TEMPORAL DE ETB NET COLOMBIA CONECTADA</td>\n",
       "      <td>PENDIENTE INICIO OPERACIÓN</td>\n",
       "      <td>NaN</td>\n",
       "      <td>3.00</td>\n",
       "      <td>12.0</td>\n",
       "      <td>12/01/2032 12:00:00 AM</td>\n",
       "      <td>5.304167</td>\n",
       "      <td>-72.927778</td>\n",
       "    </tr>\n",
       "    <tr>\n",
       "      <th>4</th>\n",
       "      <td>15</td>\n",
       "      <td>BOYACÁ</td>\n",
       "      <td>SUGAMUXI</td>\n",
       "      <td>15047</td>\n",
       "      <td>AQUITANIA</td>\n",
       "      <td>115047000019</td>\n",
       "      <td>I.E. TECNICA RAMON IGNACIO AVELLA</td>\n",
       "      <td>215047000188</td>\n",
       "      <td>ESC EL TOBAL</td>\n",
       "      <td>RURAL</td>\n",
       "      <td>CENTRO DIGITAL</td>\n",
       "      <td>UNIÓN TEMPORAL DE ETB NET COLOMBIA CONECTADA</td>\n",
       "      <td>PENDIENTE INICIO OPERACIÓN</td>\n",
       "      <td>NaN</td>\n",
       "      <td>3.00</td>\n",
       "      <td>12.0</td>\n",
       "      <td>12/01/2032 12:00:00 AM</td>\n",
       "      <td>5.508333</td>\n",
       "      <td>-72.869167</td>\n",
       "    </tr>\n",
       "    <tr>\n",
       "      <th>...</th>\n",
       "      <td>...</td>\n",
       "      <td>...</td>\n",
       "      <td>...</td>\n",
       "      <td>...</td>\n",
       "      <td>...</td>\n",
       "      <td>...</td>\n",
       "      <td>...</td>\n",
       "      <td>...</td>\n",
       "      <td>...</td>\n",
       "      <td>...</td>\n",
       "      <td>...</td>\n",
       "      <td>...</td>\n",
       "      <td>...</td>\n",
       "      <td>...</td>\n",
       "      <td>...</td>\n",
       "      <td>...</td>\n",
       "      <td>...</td>\n",
       "      <td>...</td>\n",
       "      <td>...</td>\n",
       "    </tr>\n",
       "    <tr>\n",
       "      <th>2001</th>\n",
       "      <td>15</td>\n",
       "      <td>BOYACÁ</td>\n",
       "      <td>LENGUPÁ</td>\n",
       "      <td>15897</td>\n",
       "      <td>ZETAQUIRA</td>\n",
       "      <td>115897000018</td>\n",
       "      <td>I.E. LIBARDO CUERVO PATARROYO</td>\n",
       "      <td>215897000179</td>\n",
       "      <td>HORMIGAS RINCON</td>\n",
       "      <td>RURAL</td>\n",
       "      <td>SIN PROYECTO</td>\n",
       "      <td>SIN OPERADOR</td>\n",
       "      <td>SIN SERVICIO</td>\n",
       "      <td>NaN</td>\n",
       "      <td>NaN</td>\n",
       "      <td>NaN</td>\n",
       "      <td>NaN</td>\n",
       "      <td>5.241205</td>\n",
       "      <td>-73.150800</td>\n",
       "    </tr>\n",
       "    <tr>\n",
       "      <th>2002</th>\n",
       "      <td>15</td>\n",
       "      <td>BOYACÁ</td>\n",
       "      <td>LENGUPÁ</td>\n",
       "      <td>15897</td>\n",
       "      <td>ZETAQUIRA</td>\n",
       "      <td>115897000018</td>\n",
       "      <td>I.E. LIBARDO CUERVO PATARROYO</td>\n",
       "      <td>215897000055</td>\n",
       "      <td>PATANOA CENTRO</td>\n",
       "      <td>RURAL</td>\n",
       "      <td>SIN PROYECTO</td>\n",
       "      <td>SIN OPERADOR</td>\n",
       "      <td>SIN SERVICIO</td>\n",
       "      <td>NaN</td>\n",
       "      <td>NaN</td>\n",
       "      <td>NaN</td>\n",
       "      <td>NaN</td>\n",
       "      <td>5.283333</td>\n",
       "      <td>-73.156667</td>\n",
       "    </tr>\n",
       "    <tr>\n",
       "      <th>2003</th>\n",
       "      <td>15</td>\n",
       "      <td>BOYACÁ</td>\n",
       "      <td>LENGUPÁ</td>\n",
       "      <td>15897</td>\n",
       "      <td>ZETAQUIRA</td>\n",
       "      <td>115897000018</td>\n",
       "      <td>I.E. LIBARDO CUERVO PATARROYO</td>\n",
       "      <td>215897000063</td>\n",
       "      <td>PATANOA RINCON</td>\n",
       "      <td>RURAL</td>\n",
       "      <td>SIN PROYECTO</td>\n",
       "      <td>SIN OPERADOR</td>\n",
       "      <td>SIN SERVICIO</td>\n",
       "      <td>NaN</td>\n",
       "      <td>NaN</td>\n",
       "      <td>NaN</td>\n",
       "      <td>NaN</td>\n",
       "      <td>5.299486</td>\n",
       "      <td>-73.156182</td>\n",
       "    </tr>\n",
       "    <tr>\n",
       "      <th>2004</th>\n",
       "      <td>15</td>\n",
       "      <td>BOYACÁ</td>\n",
       "      <td>LENGUPÁ</td>\n",
       "      <td>15897</td>\n",
       "      <td>ZETAQUIRA</td>\n",
       "      <td>115897000018</td>\n",
       "      <td>I.E. LIBARDO CUERVO PATARROYO</td>\n",
       "      <td>215897000250</td>\n",
       "      <td>SANTA HELENA</td>\n",
       "      <td>RURAL</td>\n",
       "      <td>SIN PROYECTO</td>\n",
       "      <td>SIN OPERADOR</td>\n",
       "      <td>SIN SERVICIO</td>\n",
       "      <td>NaN</td>\n",
       "      <td>NaN</td>\n",
       "      <td>NaN</td>\n",
       "      <td>NaN</td>\n",
       "      <td>5.283056</td>\n",
       "      <td>-73.170000</td>\n",
       "    </tr>\n",
       "    <tr>\n",
       "      <th>2005</th>\n",
       "      <td>15</td>\n",
       "      <td>BOYACÁ</td>\n",
       "      <td>RICAURTE</td>\n",
       "      <td>15469</td>\n",
       "      <td>MONIQUIRÁ</td>\n",
       "      <td>215469000342</td>\n",
       "      <td>I.E. SAN ALBERTO MAGNO</td>\n",
       "      <td>215469000105</td>\n",
       "      <td>SEDE NEVAL Y CRUCES</td>\n",
       "      <td>RURAL</td>\n",
       "      <td>SIN PROYECTO</td>\n",
       "      <td>SIN OPERADOR</td>\n",
       "      <td>SIN SERVICIO</td>\n",
       "      <td>NaN</td>\n",
       "      <td>NaN</td>\n",
       "      <td>NaN</td>\n",
       "      <td>NaN</td>\n",
       "      <td>5.903176</td>\n",
       "      <td>-73.561679</td>\n",
       "    </tr>\n",
       "  </tbody>\n",
       "</table>\n",
       "<p>2006 rows × 19 columns</p>\n",
       "</div>"
      ],
      "text/plain": [
       "      CÓDIGO DEPARTAMENTO DEPARTAMENTO PROVINCIA  CÓDIGO MUNICIPIO  MUNICIPIO  \\\n",
       "0                      15       BOYACÁ   ORIENTE             15022    ALMEIDA   \n",
       "1                      15       BOYACÁ  SUGAMUXI             15047  AQUITANIA   \n",
       "2                      15       BOYACÁ  SUGAMUXI             15047  AQUITANIA   \n",
       "3                      15       BOYACÁ  SUGAMUXI             15047  AQUITANIA   \n",
       "4                      15       BOYACÁ  SUGAMUXI             15047  AQUITANIA   \n",
       "...                   ...          ...       ...               ...        ...   \n",
       "2001                   15       BOYACÁ   LENGUPÁ             15897  ZETAQUIRA   \n",
       "2002                   15       BOYACÁ   LENGUPÁ             15897  ZETAQUIRA   \n",
       "2003                   15       BOYACÁ   LENGUPÁ             15897  ZETAQUIRA   \n",
       "2004                   15       BOYACÁ   LENGUPÁ             15897  ZETAQUIRA   \n",
       "2005                   15       BOYACÁ  RICAURTE             15469  MONIQUIRÁ   \n",
       "\n",
       "      CODIGO DANE INSTITUCION EDUCATIVA       NOMBRE INSTITUCION EDUCATIVA  \\\n",
       "0                          315022000196                I.E. ENRIQUE SUAREZ   \n",
       "1                          115047000019  I.E. TECNICA RAMON IGNACIO AVELLA   \n",
       "2                          115047000019  I.E. TECNICA RAMON IGNACIO AVELLA   \n",
       "3                          215047000099       I.E. REGION SUR DE AQUITANIA   \n",
       "4                          115047000019  I.E. TECNICA RAMON IGNACIO AVELLA   \n",
       "...                                 ...                                ...   \n",
       "2001                       115897000018      I.E. LIBARDO CUERVO PATARROYO   \n",
       "2002                       115897000018      I.E. LIBARDO CUERVO PATARROYO   \n",
       "2003                       115897000018      I.E. LIBARDO CUERVO PATARROYO   \n",
       "2004                       115897000018      I.E. LIBARDO CUERVO PATARROYO   \n",
       "2005                       215469000342             I.E. SAN ALBERTO MAGNO   \n",
       "\n",
       "      CODIGO DANE SEDE NOMBRE SEDE EDUCATIVA   ZONA  \\\n",
       "0         215022000078          ESC EL ROSAL  RURAL   \n",
       "1         215047000196             ESC CAJON  RURAL   \n",
       "2         215047000439             ESC DAITO  RURAL   \n",
       "3         215047000579          ESC DIGANOME  RURAL   \n",
       "4         215047000188          ESC EL TOBAL  RURAL   \n",
       "...                ...                   ...    ...   \n",
       "2001      215897000179       HORMIGAS RINCON  RURAL   \n",
       "2002      215897000055        PATANOA CENTRO  RURAL   \n",
       "2003      215897000063        PATANOA RINCON  RURAL   \n",
       "2004      215897000250          SANTA HELENA  RURAL   \n",
       "2005      215469000105   SEDE NEVAL Y CRUCES  RURAL   \n",
       "\n",
       "     PROYECTOS DE CONECTIVIDAD 2024  \\\n",
       "0                    CENTRO DIGITAL   \n",
       "1                    CENTRO DIGITAL   \n",
       "2                    CENTRO DIGITAL   \n",
       "3                    CENTRO DIGITAL   \n",
       "4                    CENTRO DIGITAL   \n",
       "...                             ...   \n",
       "2001                   SIN PROYECTO   \n",
       "2002                   SIN PROYECTO   \n",
       "2003                   SIN PROYECTO   \n",
       "2004                   SIN PROYECTO   \n",
       "2005                   SIN PROYECTO   \n",
       "\n",
       "                                          OPERADOR  \\\n",
       "0     UNIÓN TEMPORAL DE ETB NET COLOMBIA CONECTADA   \n",
       "1     UNIÓN TEMPORAL DE ETB NET COLOMBIA CONECTADA   \n",
       "2     UNIÓN TEMPORAL DE ETB NET COLOMBIA CONECTADA   \n",
       "3     UNIÓN TEMPORAL DE ETB NET COLOMBIA CONECTADA   \n",
       "4     UNIÓN TEMPORAL DE ETB NET COLOMBIA CONECTADA   \n",
       "...                                            ...   \n",
       "2001                                  SIN OPERADOR   \n",
       "2002                                  SIN OPERADOR   \n",
       "2003                                  SIN OPERADOR   \n",
       "2004                                  SIN OPERADOR   \n",
       "2005                                  SIN OPERADOR   \n",
       "\n",
       "                          ESTADO MEDIO DE ENLACE  \\\n",
       "0                   EN OPERACIÓN             NaN   \n",
       "1     PENDIENTE INICIO OPERACIÓN             NaN   \n",
       "2                   EN OPERACIÓN             NaN   \n",
       "3     PENDIENTE INICIO OPERACIÓN             NaN   \n",
       "4     PENDIENTE INICIO OPERACIÓN             NaN   \n",
       "...                          ...             ...   \n",
       "2001                SIN SERVICIO             NaN   \n",
       "2002                SIN SERVICIO             NaN   \n",
       "2003                SIN SERVICIO             NaN   \n",
       "2004                SIN SERVICIO             NaN   \n",
       "2005                SIN SERVICIO             NaN   \n",
       "\n",
       "      ANCHO DE BANDA DE SUBIDA (MB)  ANCHO DE BANDA DESCARGA (MB)  \\\n",
       "0                              3.00                          12.0   \n",
       "1                              3.00                          12.0   \n",
       "2                              3.75                          15.0   \n",
       "3                              3.00                          12.0   \n",
       "4                              3.00                          12.0   \n",
       "...                             ...                           ...   \n",
       "2001                            NaN                           NaN   \n",
       "2002                            NaN                           NaN   \n",
       "2003                            NaN                           NaN   \n",
       "2004                            NaN                           NaN   \n",
       "2005                            NaN                           NaN   \n",
       "\n",
       "     FINALIZACIÓN DEL CONTRATO   LATITUD   LONGITUD  \n",
       "0       12/01/2032 12:00:00 AM  4.945062 -73.380849  \n",
       "1       12/01/2032 12:00:00 AM  5.369444 -72.881389  \n",
       "2       12/01/2032 12:00:00 AM  5.498778 -72.912650  \n",
       "3       12/01/2032 12:00:00 AM  5.304167 -72.927778  \n",
       "4       12/01/2032 12:00:00 AM  5.508333 -72.869167  \n",
       "...                        ...       ...        ...  \n",
       "2001                       NaN  5.241205 -73.150800  \n",
       "2002                       NaN  5.283333 -73.156667  \n",
       "2003                       NaN  5.299486 -73.156182  \n",
       "2004                       NaN  5.283056 -73.170000  \n",
       "2005                       NaN  5.903176 -73.561679  \n",
       "\n",
       "[2006 rows x 19 columns]"
      ]
     },
     "execution_count": 57,
     "metadata": {},
     "output_type": "execute_result"
    }
   ],
   "source": [
    "# Devuelve los encabezados, las primeras 5 filas y las últimas 5 filas.\n",
    "\n",
    "df"
   ]
  },
  {
   "cell_type": "code",
   "execution_count": 58,
   "metadata": {},
   "outputs": [
    {
     "data": {
      "text/plain": [
       "Index(['CÓDIGO DEPARTAMENTO', 'DEPARTAMENTO', 'PROVINCIA', 'CÓDIGO MUNICIPIO',\n",
       "       'MUNICIPIO', 'CODIGO DANE INSTITUCION EDUCATIVA',\n",
       "       'NOMBRE INSTITUCION EDUCATIVA', 'CODIGO DANE SEDE',\n",
       "       'NOMBRE SEDE EDUCATIVA', 'ZONA', 'PROYECTOS DE CONECTIVIDAD 2024',\n",
       "       'OPERADOR', 'ESTADO', 'MEDIO DE ENLACE',\n",
       "       'ANCHO DE BANDA DE SUBIDA (MB)', 'ANCHO DE BANDA DESCARGA (MB)',\n",
       "       'FINALIZACIÓN DEL CONTRATO', 'LATITUD', 'LONGITUD'],\n",
       "      dtype='object')"
      ]
     },
     "execution_count": 58,
     "metadata": {},
     "output_type": "execute_result"
    }
   ],
   "source": [
    "#Devuelve un índice con los nombres de las columnas: Encabezado.\n",
    "\n",
    "df.columns"
   ]
  },
  {
   "cell_type": "code",
   "execution_count": 59,
   "metadata": {},
   "outputs": [
    {
     "data": {
      "text/html": [
       "<div>\n",
       "<style scoped>\n",
       "    .dataframe tbody tr th:only-of-type {\n",
       "        vertical-align: middle;\n",
       "    }\n",
       "\n",
       "    .dataframe tbody tr th {\n",
       "        vertical-align: top;\n",
       "    }\n",
       "\n",
       "    .dataframe thead th {\n",
       "        text-align: right;\n",
       "    }\n",
       "</style>\n",
       "<table border=\"1\" class=\"dataframe\">\n",
       "  <thead>\n",
       "    <tr style=\"text-align: right;\">\n",
       "      <th></th>\n",
       "      <th>CÓDIGO DEPARTAMENTO</th>\n",
       "      <th>DEPARTAMENTO</th>\n",
       "      <th>PROVINCIA</th>\n",
       "      <th>CÓDIGO MUNICIPIO</th>\n",
       "      <th>MUNICIPIO</th>\n",
       "      <th>CODIGO DANE INSTITUCION EDUCATIVA</th>\n",
       "      <th>NOMBRE INSTITUCION EDUCATIVA</th>\n",
       "      <th>CODIGO DANE SEDE</th>\n",
       "      <th>NOMBRE SEDE EDUCATIVA</th>\n",
       "      <th>ZONA</th>\n",
       "      <th>PROYECTOS DE CONECTIVIDAD 2024</th>\n",
       "      <th>OPERADOR</th>\n",
       "      <th>ESTADO</th>\n",
       "      <th>MEDIO DE ENLACE</th>\n",
       "      <th>ANCHO DE BANDA DE SUBIDA (MB)</th>\n",
       "      <th>ANCHO DE BANDA DESCARGA (MB)</th>\n",
       "      <th>FINALIZACIÓN DEL CONTRATO</th>\n",
       "      <th>LATITUD</th>\n",
       "      <th>LONGITUD</th>\n",
       "    </tr>\n",
       "  </thead>\n",
       "  <tbody>\n",
       "    <tr>\n",
       "      <th>0</th>\n",
       "      <td>15</td>\n",
       "      <td>BOYACÁ</td>\n",
       "      <td>ORIENTE</td>\n",
       "      <td>15022</td>\n",
       "      <td>ALMEIDA</td>\n",
       "      <td>315022000196</td>\n",
       "      <td>I.E. ENRIQUE SUAREZ</td>\n",
       "      <td>215022000078</td>\n",
       "      <td>ESC EL ROSAL</td>\n",
       "      <td>RURAL</td>\n",
       "      <td>CENTRO DIGITAL</td>\n",
       "      <td>UNIÓN TEMPORAL DE ETB NET COLOMBIA CONECTADA</td>\n",
       "      <td>EN OPERACIÓN</td>\n",
       "      <td>NaN</td>\n",
       "      <td>3.00</td>\n",
       "      <td>12.0</td>\n",
       "      <td>12/01/2032 12:00:00 AM</td>\n",
       "      <td>4.945062</td>\n",
       "      <td>-73.380849</td>\n",
       "    </tr>\n",
       "    <tr>\n",
       "      <th>1</th>\n",
       "      <td>15</td>\n",
       "      <td>BOYACÁ</td>\n",
       "      <td>SUGAMUXI</td>\n",
       "      <td>15047</td>\n",
       "      <td>AQUITANIA</td>\n",
       "      <td>115047000019</td>\n",
       "      <td>I.E. TECNICA RAMON IGNACIO AVELLA</td>\n",
       "      <td>215047000196</td>\n",
       "      <td>ESC CAJON</td>\n",
       "      <td>RURAL</td>\n",
       "      <td>CENTRO DIGITAL</td>\n",
       "      <td>UNIÓN TEMPORAL DE ETB NET COLOMBIA CONECTADA</td>\n",
       "      <td>PENDIENTE INICIO OPERACIÓN</td>\n",
       "      <td>NaN</td>\n",
       "      <td>3.00</td>\n",
       "      <td>12.0</td>\n",
       "      <td>12/01/2032 12:00:00 AM</td>\n",
       "      <td>5.369444</td>\n",
       "      <td>-72.881389</td>\n",
       "    </tr>\n",
       "    <tr>\n",
       "      <th>2</th>\n",
       "      <td>15</td>\n",
       "      <td>BOYACÁ</td>\n",
       "      <td>SUGAMUXI</td>\n",
       "      <td>15047</td>\n",
       "      <td>AQUITANIA</td>\n",
       "      <td>115047000019</td>\n",
       "      <td>I.E. TECNICA RAMON IGNACIO AVELLA</td>\n",
       "      <td>215047000439</td>\n",
       "      <td>ESC DAITO</td>\n",
       "      <td>RURAL</td>\n",
       "      <td>CENTRO DIGITAL</td>\n",
       "      <td>UNIÓN TEMPORAL DE ETB NET COLOMBIA CONECTADA</td>\n",
       "      <td>EN OPERACIÓN</td>\n",
       "      <td>NaN</td>\n",
       "      <td>3.75</td>\n",
       "      <td>15.0</td>\n",
       "      <td>12/01/2032 12:00:00 AM</td>\n",
       "      <td>5.498778</td>\n",
       "      <td>-72.912650</td>\n",
       "    </tr>\n",
       "    <tr>\n",
       "      <th>3</th>\n",
       "      <td>15</td>\n",
       "      <td>BOYACÁ</td>\n",
       "      <td>SUGAMUXI</td>\n",
       "      <td>15047</td>\n",
       "      <td>AQUITANIA</td>\n",
       "      <td>215047000099</td>\n",
       "      <td>I.E. REGION SUR DE AQUITANIA</td>\n",
       "      <td>215047000579</td>\n",
       "      <td>ESC DIGANOME</td>\n",
       "      <td>RURAL</td>\n",
       "      <td>CENTRO DIGITAL</td>\n",
       "      <td>UNIÓN TEMPORAL DE ETB NET COLOMBIA CONECTADA</td>\n",
       "      <td>PENDIENTE INICIO OPERACIÓN</td>\n",
       "      <td>NaN</td>\n",
       "      <td>3.00</td>\n",
       "      <td>12.0</td>\n",
       "      <td>12/01/2032 12:00:00 AM</td>\n",
       "      <td>5.304167</td>\n",
       "      <td>-72.927778</td>\n",
       "    </tr>\n",
       "    <tr>\n",
       "      <th>4</th>\n",
       "      <td>15</td>\n",
       "      <td>BOYACÁ</td>\n",
       "      <td>SUGAMUXI</td>\n",
       "      <td>15047</td>\n",
       "      <td>AQUITANIA</td>\n",
       "      <td>115047000019</td>\n",
       "      <td>I.E. TECNICA RAMON IGNACIO AVELLA</td>\n",
       "      <td>215047000188</td>\n",
       "      <td>ESC EL TOBAL</td>\n",
       "      <td>RURAL</td>\n",
       "      <td>CENTRO DIGITAL</td>\n",
       "      <td>UNIÓN TEMPORAL DE ETB NET COLOMBIA CONECTADA</td>\n",
       "      <td>PENDIENTE INICIO OPERACIÓN</td>\n",
       "      <td>NaN</td>\n",
       "      <td>3.00</td>\n",
       "      <td>12.0</td>\n",
       "      <td>12/01/2032 12:00:00 AM</td>\n",
       "      <td>5.508333</td>\n",
       "      <td>-72.869167</td>\n",
       "    </tr>\n",
       "    <tr>\n",
       "      <th>5</th>\n",
       "      <td>15</td>\n",
       "      <td>BOYACÁ</td>\n",
       "      <td>SUGAMUXI</td>\n",
       "      <td>15047</td>\n",
       "      <td>AQUITANIA</td>\n",
       "      <td>115047000019</td>\n",
       "      <td>I.E. TECNICA RAMON IGNACIO AVELLA</td>\n",
       "      <td>215047000650</td>\n",
       "      <td>ESC GARAGOA</td>\n",
       "      <td>RURAL</td>\n",
       "      <td>CENTRO DIGITAL</td>\n",
       "      <td>UNIÓN TEMPORAL DE ETB NET COLOMBIA CONECTADA</td>\n",
       "      <td>EN OPERACIÓN</td>\n",
       "      <td>NaN</td>\n",
       "      <td>3.75</td>\n",
       "      <td>15.0</td>\n",
       "      <td>12/01/2032 12:00:00 AM</td>\n",
       "      <td>5.511944</td>\n",
       "      <td>-72.883889</td>\n",
       "    </tr>\n",
       "    <tr>\n",
       "      <th>6</th>\n",
       "      <td>15</td>\n",
       "      <td>BOYACÁ</td>\n",
       "      <td>SUGAMUXI</td>\n",
       "      <td>15047</td>\n",
       "      <td>AQUITANIA</td>\n",
       "      <td>115047000019</td>\n",
       "      <td>I.E. TECNICA RAMON IGNACIO AVELLA</td>\n",
       "      <td>215047000234</td>\n",
       "      <td>ESC HATOLAGUNA</td>\n",
       "      <td>RURAL</td>\n",
       "      <td>CENTRO DIGITAL</td>\n",
       "      <td>UNIÓN TEMPORAL DE ETB NET COLOMBIA CONECTADA</td>\n",
       "      <td>EN OPERACIÓN</td>\n",
       "      <td>NaN</td>\n",
       "      <td>3.00</td>\n",
       "      <td>12.0</td>\n",
       "      <td>12/01/2032 12:00:00 AM</td>\n",
       "      <td>5.586463</td>\n",
       "      <td>-72.890437</td>\n",
       "    </tr>\n",
       "    <tr>\n",
       "      <th>7</th>\n",
       "      <td>15</td>\n",
       "      <td>BOYACÁ</td>\n",
       "      <td>SUGAMUXI</td>\n",
       "      <td>15047</td>\n",
       "      <td>AQUITANIA</td>\n",
       "      <td>115047000019</td>\n",
       "      <td>I.E. TECNICA RAMON IGNACIO AVELLA</td>\n",
       "      <td>215047000633</td>\n",
       "      <td>ESC PLAYA Y CHITAL</td>\n",
       "      <td>RURAL</td>\n",
       "      <td>CENTRO DIGITAL</td>\n",
       "      <td>UNIÓN TEMPORAL DE ETB NET COLOMBIA CONECTADA</td>\n",
       "      <td>PENDIENTE INICIO OPERACIÓN</td>\n",
       "      <td>NaN</td>\n",
       "      <td>3.00</td>\n",
       "      <td>12.0</td>\n",
       "      <td>12/01/2032 12:00:00 AM</td>\n",
       "      <td>5.502775</td>\n",
       "      <td>-72.905654</td>\n",
       "    </tr>\n",
       "    <tr>\n",
       "      <th>8</th>\n",
       "      <td>15</td>\n",
       "      <td>BOYACÁ</td>\n",
       "      <td>SUGAMUXI</td>\n",
       "      <td>15047</td>\n",
       "      <td>AQUITANIA</td>\n",
       "      <td>215047000099</td>\n",
       "      <td>I.E. REGION SUR DE AQUITANIA</td>\n",
       "      <td>215047000587</td>\n",
       "      <td>ESC SAN JUAN DE MOMBITA</td>\n",
       "      <td>RURAL</td>\n",
       "      <td>CENTRO DIGITAL</td>\n",
       "      <td>UNIÓN TEMPORAL DE ETB NET COLOMBIA CONECTADA</td>\n",
       "      <td>EN OPERACIÓN</td>\n",
       "      <td>NaN</td>\n",
       "      <td>3.00</td>\n",
       "      <td>12.0</td>\n",
       "      <td>12/01/2032 12:00:00 AM</td>\n",
       "      <td>5.288333</td>\n",
       "      <td>-72.927778</td>\n",
       "    </tr>\n",
       "    <tr>\n",
       "      <th>9</th>\n",
       "      <td>15</td>\n",
       "      <td>BOYACÁ</td>\n",
       "      <td>SUGAMUXI</td>\n",
       "      <td>15047</td>\n",
       "      <td>AQUITANIA</td>\n",
       "      <td>215047000099</td>\n",
       "      <td>I.E. REGION SUR DE AQUITANIA</td>\n",
       "      <td>215047000102</td>\n",
       "      <td>ESC SISVACA</td>\n",
       "      <td>RURAL</td>\n",
       "      <td>CENTRO DIGITAL</td>\n",
       "      <td>UNIÓN TEMPORAL DE ETB NET COLOMBIA CONECTADA</td>\n",
       "      <td>EN OPERACIÓN</td>\n",
       "      <td>NaN</td>\n",
       "      <td>3.75</td>\n",
       "      <td>15.0</td>\n",
       "      <td>12/01/2032 12:00:00 AM</td>\n",
       "      <td>5.304444</td>\n",
       "      <td>-72.922222</td>\n",
       "    </tr>\n",
       "  </tbody>\n",
       "</table>\n",
       "</div>"
      ],
      "text/plain": [
       "   CÓDIGO DEPARTAMENTO DEPARTAMENTO PROVINCIA  CÓDIGO MUNICIPIO  MUNICIPIO  \\\n",
       "0                   15       BOYACÁ   ORIENTE             15022    ALMEIDA   \n",
       "1                   15       BOYACÁ  SUGAMUXI             15047  AQUITANIA   \n",
       "2                   15       BOYACÁ  SUGAMUXI             15047  AQUITANIA   \n",
       "3                   15       BOYACÁ  SUGAMUXI             15047  AQUITANIA   \n",
       "4                   15       BOYACÁ  SUGAMUXI             15047  AQUITANIA   \n",
       "5                   15       BOYACÁ  SUGAMUXI             15047  AQUITANIA   \n",
       "6                   15       BOYACÁ  SUGAMUXI             15047  AQUITANIA   \n",
       "7                   15       BOYACÁ  SUGAMUXI             15047  AQUITANIA   \n",
       "8                   15       BOYACÁ  SUGAMUXI             15047  AQUITANIA   \n",
       "9                   15       BOYACÁ  SUGAMUXI             15047  AQUITANIA   \n",
       "\n",
       "   CODIGO DANE INSTITUCION EDUCATIVA       NOMBRE INSTITUCION EDUCATIVA  \\\n",
       "0                       315022000196                I.E. ENRIQUE SUAREZ   \n",
       "1                       115047000019  I.E. TECNICA RAMON IGNACIO AVELLA   \n",
       "2                       115047000019  I.E. TECNICA RAMON IGNACIO AVELLA   \n",
       "3                       215047000099       I.E. REGION SUR DE AQUITANIA   \n",
       "4                       115047000019  I.E. TECNICA RAMON IGNACIO AVELLA   \n",
       "5                       115047000019  I.E. TECNICA RAMON IGNACIO AVELLA   \n",
       "6                       115047000019  I.E. TECNICA RAMON IGNACIO AVELLA   \n",
       "7                       115047000019  I.E. TECNICA RAMON IGNACIO AVELLA   \n",
       "8                       215047000099       I.E. REGION SUR DE AQUITANIA   \n",
       "9                       215047000099       I.E. REGION SUR DE AQUITANIA   \n",
       "\n",
       "   CODIGO DANE SEDE    NOMBRE SEDE EDUCATIVA   ZONA  \\\n",
       "0      215022000078             ESC EL ROSAL  RURAL   \n",
       "1      215047000196                ESC CAJON  RURAL   \n",
       "2      215047000439                ESC DAITO  RURAL   \n",
       "3      215047000579             ESC DIGANOME  RURAL   \n",
       "4      215047000188             ESC EL TOBAL  RURAL   \n",
       "5      215047000650              ESC GARAGOA  RURAL   \n",
       "6      215047000234           ESC HATOLAGUNA  RURAL   \n",
       "7      215047000633       ESC PLAYA Y CHITAL  RURAL   \n",
       "8      215047000587  ESC SAN JUAN DE MOMBITA  RURAL   \n",
       "9      215047000102              ESC SISVACA  RURAL   \n",
       "\n",
       "  PROYECTOS DE CONECTIVIDAD 2024  \\\n",
       "0                 CENTRO DIGITAL   \n",
       "1                 CENTRO DIGITAL   \n",
       "2                 CENTRO DIGITAL   \n",
       "3                 CENTRO DIGITAL   \n",
       "4                 CENTRO DIGITAL   \n",
       "5                 CENTRO DIGITAL   \n",
       "6                 CENTRO DIGITAL   \n",
       "7                 CENTRO DIGITAL   \n",
       "8                 CENTRO DIGITAL   \n",
       "9                 CENTRO DIGITAL   \n",
       "\n",
       "                                       OPERADOR                      ESTADO  \\\n",
       "0  UNIÓN TEMPORAL DE ETB NET COLOMBIA CONECTADA                EN OPERACIÓN   \n",
       "1  UNIÓN TEMPORAL DE ETB NET COLOMBIA CONECTADA  PENDIENTE INICIO OPERACIÓN   \n",
       "2  UNIÓN TEMPORAL DE ETB NET COLOMBIA CONECTADA                EN OPERACIÓN   \n",
       "3  UNIÓN TEMPORAL DE ETB NET COLOMBIA CONECTADA  PENDIENTE INICIO OPERACIÓN   \n",
       "4  UNIÓN TEMPORAL DE ETB NET COLOMBIA CONECTADA  PENDIENTE INICIO OPERACIÓN   \n",
       "5  UNIÓN TEMPORAL DE ETB NET COLOMBIA CONECTADA                EN OPERACIÓN   \n",
       "6  UNIÓN TEMPORAL DE ETB NET COLOMBIA CONECTADA                EN OPERACIÓN   \n",
       "7  UNIÓN TEMPORAL DE ETB NET COLOMBIA CONECTADA  PENDIENTE INICIO OPERACIÓN   \n",
       "8  UNIÓN TEMPORAL DE ETB NET COLOMBIA CONECTADA                EN OPERACIÓN   \n",
       "9  UNIÓN TEMPORAL DE ETB NET COLOMBIA CONECTADA                EN OPERACIÓN   \n",
       "\n",
       "  MEDIO DE ENLACE  ANCHO DE BANDA DE SUBIDA (MB)  \\\n",
       "0             NaN                           3.00   \n",
       "1             NaN                           3.00   \n",
       "2             NaN                           3.75   \n",
       "3             NaN                           3.00   \n",
       "4             NaN                           3.00   \n",
       "5             NaN                           3.75   \n",
       "6             NaN                           3.00   \n",
       "7             NaN                           3.00   \n",
       "8             NaN                           3.00   \n",
       "9             NaN                           3.75   \n",
       "\n",
       "   ANCHO DE BANDA DESCARGA (MB) FINALIZACIÓN DEL CONTRATO   LATITUD   LONGITUD  \n",
       "0                          12.0    12/01/2032 12:00:00 AM  4.945062 -73.380849  \n",
       "1                          12.0    12/01/2032 12:00:00 AM  5.369444 -72.881389  \n",
       "2                          15.0    12/01/2032 12:00:00 AM  5.498778 -72.912650  \n",
       "3                          12.0    12/01/2032 12:00:00 AM  5.304167 -72.927778  \n",
       "4                          12.0    12/01/2032 12:00:00 AM  5.508333 -72.869167  \n",
       "5                          15.0    12/01/2032 12:00:00 AM  5.511944 -72.883889  \n",
       "6                          12.0    12/01/2032 12:00:00 AM  5.586463 -72.890437  \n",
       "7                          12.0    12/01/2032 12:00:00 AM  5.502775 -72.905654  \n",
       "8                          12.0    12/01/2032 12:00:00 AM  5.288333 -72.927778  \n",
       "9                          15.0    12/01/2032 12:00:00 AM  5.304444 -72.922222  "
      ]
     },
     "execution_count": 59,
     "metadata": {},
     "output_type": "execute_result"
    }
   ],
   "source": [
    "#El método head() devuelve los encabezados y un número especificado de filas, comenzando desde la parte superior.\n",
    "#Nota: si no se especifica el número de filas, el método head() devolverá las primeras 5 filas\n",
    "\n",
    "df.head(10)"
   ]
  },
  {
   "cell_type": "code",
   "execution_count": 60,
   "metadata": {},
   "outputs": [
    {
     "data": {
      "text/html": [
       "<div>\n",
       "<style scoped>\n",
       "    .dataframe tbody tr th:only-of-type {\n",
       "        vertical-align: middle;\n",
       "    }\n",
       "\n",
       "    .dataframe tbody tr th {\n",
       "        vertical-align: top;\n",
       "    }\n",
       "\n",
       "    .dataframe thead th {\n",
       "        text-align: right;\n",
       "    }\n",
       "</style>\n",
       "<table border=\"1\" class=\"dataframe\">\n",
       "  <thead>\n",
       "    <tr style=\"text-align: right;\">\n",
       "      <th></th>\n",
       "      <th>CÓDIGO DEPARTAMENTO</th>\n",
       "      <th>DEPARTAMENTO</th>\n",
       "      <th>PROVINCIA</th>\n",
       "      <th>CÓDIGO MUNICIPIO</th>\n",
       "      <th>MUNICIPIO</th>\n",
       "      <th>CODIGO DANE INSTITUCION EDUCATIVA</th>\n",
       "      <th>NOMBRE INSTITUCION EDUCATIVA</th>\n",
       "      <th>CODIGO DANE SEDE</th>\n",
       "      <th>NOMBRE SEDE EDUCATIVA</th>\n",
       "      <th>ZONA</th>\n",
       "      <th>PROYECTOS DE CONECTIVIDAD 2024</th>\n",
       "      <th>OPERADOR</th>\n",
       "      <th>ESTADO</th>\n",
       "      <th>MEDIO DE ENLACE</th>\n",
       "      <th>ANCHO DE BANDA DE SUBIDA (MB)</th>\n",
       "      <th>ANCHO DE BANDA DESCARGA (MB)</th>\n",
       "      <th>FINALIZACIÓN DEL CONTRATO</th>\n",
       "      <th>LATITUD</th>\n",
       "      <th>LONGITUD</th>\n",
       "    </tr>\n",
       "  </thead>\n",
       "  <tbody>\n",
       "    <tr>\n",
       "      <th>1996</th>\n",
       "      <td>15</td>\n",
       "      <td>BOYACÁ</td>\n",
       "      <td>LENGUPÁ</td>\n",
       "      <td>15897</td>\n",
       "      <td>ZETAQUIRA</td>\n",
       "      <td>115897000221</td>\n",
       "      <td>I.E. SAN JOSE DE LA FLORIDA</td>\n",
       "      <td>215897000128</td>\n",
       "      <td>ES GUANATÁ COLORADA</td>\n",
       "      <td>RURAL</td>\n",
       "      <td>SIN PROYECTO</td>\n",
       "      <td>SIN OPERADOR</td>\n",
       "      <td>SIN SERVICIO</td>\n",
       "      <td>NaN</td>\n",
       "      <td>NaN</td>\n",
       "      <td>NaN</td>\n",
       "      <td>NaN</td>\n",
       "      <td>5.261193</td>\n",
       "      <td>-73.157510</td>\n",
       "    </tr>\n",
       "    <tr>\n",
       "      <th>1997</th>\n",
       "      <td>15</td>\n",
       "      <td>BOYACÁ</td>\n",
       "      <td>LENGUPÁ</td>\n",
       "      <td>15897</td>\n",
       "      <td>ZETAQUIRA</td>\n",
       "      <td>115897000221</td>\n",
       "      <td>I.E. SAN JOSE DE LA FLORIDA</td>\n",
       "      <td>215897000110</td>\n",
       "      <td>ESC HORMIGAS CENTRO</td>\n",
       "      <td>RURAL</td>\n",
       "      <td>SIN PROYECTO</td>\n",
       "      <td>SIN OPERADOR</td>\n",
       "      <td>SIN SERVICIO</td>\n",
       "      <td>NaN</td>\n",
       "      <td>NaN</td>\n",
       "      <td>NaN</td>\n",
       "      <td>NaN</td>\n",
       "      <td>5.240833</td>\n",
       "      <td>-73.151389</td>\n",
       "    </tr>\n",
       "    <tr>\n",
       "      <th>1998</th>\n",
       "      <td>15</td>\n",
       "      <td>BOYACÁ</td>\n",
       "      <td>LENGUPÁ</td>\n",
       "      <td>15897</td>\n",
       "      <td>ZETAQUIRA</td>\n",
       "      <td>115897000221</td>\n",
       "      <td>I.E. SAN JOSE DE LA FLORIDA</td>\n",
       "      <td>215897000047</td>\n",
       "      <td>ESC JURACAMBITA CENTRO</td>\n",
       "      <td>RURAL</td>\n",
       "      <td>SIN PROYECTO</td>\n",
       "      <td>SIN OPERADOR</td>\n",
       "      <td>SIN SERVICIO</td>\n",
       "      <td>NaN</td>\n",
       "      <td>NaN</td>\n",
       "      <td>NaN</td>\n",
       "      <td>NaN</td>\n",
       "      <td>5.282778</td>\n",
       "      <td>-73.169722</td>\n",
       "    </tr>\n",
       "    <tr>\n",
       "      <th>1999</th>\n",
       "      <td>15</td>\n",
       "      <td>BOYACÁ</td>\n",
       "      <td>LENGUPÁ</td>\n",
       "      <td>15897</td>\n",
       "      <td>ZETAQUIRA</td>\n",
       "      <td>115897000018</td>\n",
       "      <td>I.E. LIBARDO CUERVO PATARROYO</td>\n",
       "      <td>215897000136</td>\n",
       "      <td>GACAL BOLIVAR</td>\n",
       "      <td>RURAL</td>\n",
       "      <td>SIN PROYECTO</td>\n",
       "      <td>SIN OPERADOR</td>\n",
       "      <td>SIN SERVICIO</td>\n",
       "      <td>NaN</td>\n",
       "      <td>NaN</td>\n",
       "      <td>NaN</td>\n",
       "      <td>NaN</td>\n",
       "      <td>5.283056</td>\n",
       "      <td>-73.166944</td>\n",
       "    </tr>\n",
       "    <tr>\n",
       "      <th>2000</th>\n",
       "      <td>15</td>\n",
       "      <td>BOYACÁ</td>\n",
       "      <td>LENGUPÁ</td>\n",
       "      <td>15897</td>\n",
       "      <td>ZETAQUIRA</td>\n",
       "      <td>115897000018</td>\n",
       "      <td>I.E. LIBARDO CUERVO PATARROYO</td>\n",
       "      <td>215897000152</td>\n",
       "      <td>GACAL SANTA ROSA</td>\n",
       "      <td>RURAL</td>\n",
       "      <td>SIN PROYECTO</td>\n",
       "      <td>SIN OPERADOR</td>\n",
       "      <td>SIN SERVICIO</td>\n",
       "      <td>NaN</td>\n",
       "      <td>NaN</td>\n",
       "      <td>NaN</td>\n",
       "      <td>NaN</td>\n",
       "      <td>5.282778</td>\n",
       "      <td>-73.170000</td>\n",
       "    </tr>\n",
       "    <tr>\n",
       "      <th>2001</th>\n",
       "      <td>15</td>\n",
       "      <td>BOYACÁ</td>\n",
       "      <td>LENGUPÁ</td>\n",
       "      <td>15897</td>\n",
       "      <td>ZETAQUIRA</td>\n",
       "      <td>115897000018</td>\n",
       "      <td>I.E. LIBARDO CUERVO PATARROYO</td>\n",
       "      <td>215897000179</td>\n",
       "      <td>HORMIGAS RINCON</td>\n",
       "      <td>RURAL</td>\n",
       "      <td>SIN PROYECTO</td>\n",
       "      <td>SIN OPERADOR</td>\n",
       "      <td>SIN SERVICIO</td>\n",
       "      <td>NaN</td>\n",
       "      <td>NaN</td>\n",
       "      <td>NaN</td>\n",
       "      <td>NaN</td>\n",
       "      <td>5.241205</td>\n",
       "      <td>-73.150800</td>\n",
       "    </tr>\n",
       "    <tr>\n",
       "      <th>2002</th>\n",
       "      <td>15</td>\n",
       "      <td>BOYACÁ</td>\n",
       "      <td>LENGUPÁ</td>\n",
       "      <td>15897</td>\n",
       "      <td>ZETAQUIRA</td>\n",
       "      <td>115897000018</td>\n",
       "      <td>I.E. LIBARDO CUERVO PATARROYO</td>\n",
       "      <td>215897000055</td>\n",
       "      <td>PATANOA CENTRO</td>\n",
       "      <td>RURAL</td>\n",
       "      <td>SIN PROYECTO</td>\n",
       "      <td>SIN OPERADOR</td>\n",
       "      <td>SIN SERVICIO</td>\n",
       "      <td>NaN</td>\n",
       "      <td>NaN</td>\n",
       "      <td>NaN</td>\n",
       "      <td>NaN</td>\n",
       "      <td>5.283333</td>\n",
       "      <td>-73.156667</td>\n",
       "    </tr>\n",
       "    <tr>\n",
       "      <th>2003</th>\n",
       "      <td>15</td>\n",
       "      <td>BOYACÁ</td>\n",
       "      <td>LENGUPÁ</td>\n",
       "      <td>15897</td>\n",
       "      <td>ZETAQUIRA</td>\n",
       "      <td>115897000018</td>\n",
       "      <td>I.E. LIBARDO CUERVO PATARROYO</td>\n",
       "      <td>215897000063</td>\n",
       "      <td>PATANOA RINCON</td>\n",
       "      <td>RURAL</td>\n",
       "      <td>SIN PROYECTO</td>\n",
       "      <td>SIN OPERADOR</td>\n",
       "      <td>SIN SERVICIO</td>\n",
       "      <td>NaN</td>\n",
       "      <td>NaN</td>\n",
       "      <td>NaN</td>\n",
       "      <td>NaN</td>\n",
       "      <td>5.299486</td>\n",
       "      <td>-73.156182</td>\n",
       "    </tr>\n",
       "    <tr>\n",
       "      <th>2004</th>\n",
       "      <td>15</td>\n",
       "      <td>BOYACÁ</td>\n",
       "      <td>LENGUPÁ</td>\n",
       "      <td>15897</td>\n",
       "      <td>ZETAQUIRA</td>\n",
       "      <td>115897000018</td>\n",
       "      <td>I.E. LIBARDO CUERVO PATARROYO</td>\n",
       "      <td>215897000250</td>\n",
       "      <td>SANTA HELENA</td>\n",
       "      <td>RURAL</td>\n",
       "      <td>SIN PROYECTO</td>\n",
       "      <td>SIN OPERADOR</td>\n",
       "      <td>SIN SERVICIO</td>\n",
       "      <td>NaN</td>\n",
       "      <td>NaN</td>\n",
       "      <td>NaN</td>\n",
       "      <td>NaN</td>\n",
       "      <td>5.283056</td>\n",
       "      <td>-73.170000</td>\n",
       "    </tr>\n",
       "    <tr>\n",
       "      <th>2005</th>\n",
       "      <td>15</td>\n",
       "      <td>BOYACÁ</td>\n",
       "      <td>RICAURTE</td>\n",
       "      <td>15469</td>\n",
       "      <td>MONIQUIRÁ</td>\n",
       "      <td>215469000342</td>\n",
       "      <td>I.E. SAN ALBERTO MAGNO</td>\n",
       "      <td>215469000105</td>\n",
       "      <td>SEDE NEVAL Y CRUCES</td>\n",
       "      <td>RURAL</td>\n",
       "      <td>SIN PROYECTO</td>\n",
       "      <td>SIN OPERADOR</td>\n",
       "      <td>SIN SERVICIO</td>\n",
       "      <td>NaN</td>\n",
       "      <td>NaN</td>\n",
       "      <td>NaN</td>\n",
       "      <td>NaN</td>\n",
       "      <td>5.903176</td>\n",
       "      <td>-73.561679</td>\n",
       "    </tr>\n",
       "  </tbody>\n",
       "</table>\n",
       "</div>"
      ],
      "text/plain": [
       "      CÓDIGO DEPARTAMENTO DEPARTAMENTO PROVINCIA  CÓDIGO MUNICIPIO  MUNICIPIO  \\\n",
       "1996                   15       BOYACÁ   LENGUPÁ             15897  ZETAQUIRA   \n",
       "1997                   15       BOYACÁ   LENGUPÁ             15897  ZETAQUIRA   \n",
       "1998                   15       BOYACÁ   LENGUPÁ             15897  ZETAQUIRA   \n",
       "1999                   15       BOYACÁ   LENGUPÁ             15897  ZETAQUIRA   \n",
       "2000                   15       BOYACÁ   LENGUPÁ             15897  ZETAQUIRA   \n",
       "2001                   15       BOYACÁ   LENGUPÁ             15897  ZETAQUIRA   \n",
       "2002                   15       BOYACÁ   LENGUPÁ             15897  ZETAQUIRA   \n",
       "2003                   15       BOYACÁ   LENGUPÁ             15897  ZETAQUIRA   \n",
       "2004                   15       BOYACÁ   LENGUPÁ             15897  ZETAQUIRA   \n",
       "2005                   15       BOYACÁ  RICAURTE             15469  MONIQUIRÁ   \n",
       "\n",
       "      CODIGO DANE INSTITUCION EDUCATIVA   NOMBRE INSTITUCION EDUCATIVA  \\\n",
       "1996                       115897000221    I.E. SAN JOSE DE LA FLORIDA   \n",
       "1997                       115897000221    I.E. SAN JOSE DE LA FLORIDA   \n",
       "1998                       115897000221    I.E. SAN JOSE DE LA FLORIDA   \n",
       "1999                       115897000018  I.E. LIBARDO CUERVO PATARROYO   \n",
       "2000                       115897000018  I.E. LIBARDO CUERVO PATARROYO   \n",
       "2001                       115897000018  I.E. LIBARDO CUERVO PATARROYO   \n",
       "2002                       115897000018  I.E. LIBARDO CUERVO PATARROYO   \n",
       "2003                       115897000018  I.E. LIBARDO CUERVO PATARROYO   \n",
       "2004                       115897000018  I.E. LIBARDO CUERVO PATARROYO   \n",
       "2005                       215469000342         I.E. SAN ALBERTO MAGNO   \n",
       "\n",
       "      CODIGO DANE SEDE   NOMBRE SEDE EDUCATIVA   ZONA  \\\n",
       "1996      215897000128     ES GUANATÁ COLORADA  RURAL   \n",
       "1997      215897000110     ESC HORMIGAS CENTRO  RURAL   \n",
       "1998      215897000047  ESC JURACAMBITA CENTRO  RURAL   \n",
       "1999      215897000136           GACAL BOLIVAR  RURAL   \n",
       "2000      215897000152        GACAL SANTA ROSA  RURAL   \n",
       "2001      215897000179         HORMIGAS RINCON  RURAL   \n",
       "2002      215897000055          PATANOA CENTRO  RURAL   \n",
       "2003      215897000063          PATANOA RINCON  RURAL   \n",
       "2004      215897000250            SANTA HELENA  RURAL   \n",
       "2005      215469000105     SEDE NEVAL Y CRUCES  RURAL   \n",
       "\n",
       "     PROYECTOS DE CONECTIVIDAD 2024      OPERADOR        ESTADO  \\\n",
       "1996                   SIN PROYECTO  SIN OPERADOR  SIN SERVICIO   \n",
       "1997                   SIN PROYECTO  SIN OPERADOR  SIN SERVICIO   \n",
       "1998                   SIN PROYECTO  SIN OPERADOR  SIN SERVICIO   \n",
       "1999                   SIN PROYECTO  SIN OPERADOR  SIN SERVICIO   \n",
       "2000                   SIN PROYECTO  SIN OPERADOR  SIN SERVICIO   \n",
       "2001                   SIN PROYECTO  SIN OPERADOR  SIN SERVICIO   \n",
       "2002                   SIN PROYECTO  SIN OPERADOR  SIN SERVICIO   \n",
       "2003                   SIN PROYECTO  SIN OPERADOR  SIN SERVICIO   \n",
       "2004                   SIN PROYECTO  SIN OPERADOR  SIN SERVICIO   \n",
       "2005                   SIN PROYECTO  SIN OPERADOR  SIN SERVICIO   \n",
       "\n",
       "     MEDIO DE ENLACE  ANCHO DE BANDA DE SUBIDA (MB)  \\\n",
       "1996             NaN                            NaN   \n",
       "1997             NaN                            NaN   \n",
       "1998             NaN                            NaN   \n",
       "1999             NaN                            NaN   \n",
       "2000             NaN                            NaN   \n",
       "2001             NaN                            NaN   \n",
       "2002             NaN                            NaN   \n",
       "2003             NaN                            NaN   \n",
       "2004             NaN                            NaN   \n",
       "2005             NaN                            NaN   \n",
       "\n",
       "      ANCHO DE BANDA DESCARGA (MB) FINALIZACIÓN DEL CONTRATO   LATITUD  \\\n",
       "1996                           NaN                       NaN  5.261193   \n",
       "1997                           NaN                       NaN  5.240833   \n",
       "1998                           NaN                       NaN  5.282778   \n",
       "1999                           NaN                       NaN  5.283056   \n",
       "2000                           NaN                       NaN  5.282778   \n",
       "2001                           NaN                       NaN  5.241205   \n",
       "2002                           NaN                       NaN  5.283333   \n",
       "2003                           NaN                       NaN  5.299486   \n",
       "2004                           NaN                       NaN  5.283056   \n",
       "2005                           NaN                       NaN  5.903176   \n",
       "\n",
       "       LONGITUD  \n",
       "1996 -73.157510  \n",
       "1997 -73.151389  \n",
       "1998 -73.169722  \n",
       "1999 -73.166944  \n",
       "2000 -73.170000  \n",
       "2001 -73.150800  \n",
       "2002 -73.156667  \n",
       "2003 -73.156182  \n",
       "2004 -73.170000  \n",
       "2005 -73.561679  "
      ]
     },
     "execution_count": 60,
     "metadata": {},
     "output_type": "execute_result"
    }
   ],
   "source": [
    "#El método tail() devuelve los encabezados y un número especificado de filas, comenzando desde la parte inferior.\n",
    "#Nota: Si no se especifica el número de filas, el método tail() devolverá las últimas 5 filas.\n",
    "#Nota: Los valores con NaN (No es un número) son valores vacíos en el archivo CSV.\n",
    "\n",
    "df.tail(10)"
   ]
  },
  {
   "cell_type": "code",
   "execution_count": 61,
   "metadata": {},
   "outputs": [
    {
     "data": {
      "text/plain": [
       "CÓDIGO DEPARTAMENTO                                          15\n",
       "DEPARTAMENTO                                             BOYACÁ\n",
       "PROVINCIA                                              SUGAMUXI\n",
       "CÓDIGO MUNICIPIO                                          15464\n",
       "MUNICIPIO                                                MONGUA\n",
       "CODIGO DANE INSTITUCION EDUCATIVA                  115464000242\n",
       "NOMBRE INSTITUCION EDUCATIVA         I.E. TECNICA LISANDRO CELY\n",
       "CODIGO DANE SEDE                                   215464000191\n",
       "NOMBRE SEDE EDUCATIVA                      ESC SALINA DE MONGUA\n",
       "ZONA                                                      RURAL\n",
       "PROYECTOS DE CONECTIVIDAD 2024                     SIN PROYECTO\n",
       "OPERADOR                                           SIN OPERADOR\n",
       "ESTADO                                             SIN SERVICIO\n",
       "MEDIO DE ENLACE                                             NaN\n",
       "ANCHO DE BANDA DE SUBIDA (MB)                               NaN\n",
       "ANCHO DE BANDA DESCARGA (MB)                                NaN\n",
       "FINALIZACIÓN DEL CONTRATO                                   NaN\n",
       "LATITUD                                                   5.685\n",
       "LONGITUD                                             -72.630833\n",
       "Name: 1501, dtype: object"
      ]
     },
     "execution_count": 61,
     "metadata": {},
     "output_type": "execute_result"
    }
   ],
   "source": [
    "#Pandas usa el atributo loc para devolver una o más filas especificadas.\n",
    "#Se hace referencia al índice de la fila, la primera fila tiene un índice = 0.\n",
    "#Devolver la fila 1500.\n",
    "\n",
    "df.loc[1501]"
   ]
  },
  {
   "cell_type": "code",
   "execution_count": 62,
   "metadata": {},
   "outputs": [
    {
     "data": {
      "text/html": [
       "<div>\n",
       "<style scoped>\n",
       "    .dataframe tbody tr th:only-of-type {\n",
       "        vertical-align: middle;\n",
       "    }\n",
       "\n",
       "    .dataframe tbody tr th {\n",
       "        vertical-align: top;\n",
       "    }\n",
       "\n",
       "    .dataframe thead th {\n",
       "        text-align: right;\n",
       "    }\n",
       "</style>\n",
       "<table border=\"1\" class=\"dataframe\">\n",
       "  <thead>\n",
       "    <tr style=\"text-align: right;\">\n",
       "      <th></th>\n",
       "      <th>CÓDIGO DEPARTAMENTO</th>\n",
       "      <th>DEPARTAMENTO</th>\n",
       "      <th>PROVINCIA</th>\n",
       "      <th>CÓDIGO MUNICIPIO</th>\n",
       "      <th>MUNICIPIO</th>\n",
       "      <th>CODIGO DANE INSTITUCION EDUCATIVA</th>\n",
       "      <th>NOMBRE INSTITUCION EDUCATIVA</th>\n",
       "      <th>CODIGO DANE SEDE</th>\n",
       "      <th>NOMBRE SEDE EDUCATIVA</th>\n",
       "      <th>ZONA</th>\n",
       "      <th>PROYECTOS DE CONECTIVIDAD 2024</th>\n",
       "      <th>OPERADOR</th>\n",
       "      <th>ESTADO</th>\n",
       "      <th>MEDIO DE ENLACE</th>\n",
       "      <th>ANCHO DE BANDA DE SUBIDA (MB)</th>\n",
       "      <th>ANCHO DE BANDA DESCARGA (MB)</th>\n",
       "      <th>FINALIZACIÓN DEL CONTRATO</th>\n",
       "      <th>LATITUD</th>\n",
       "      <th>LONGITUD</th>\n",
       "    </tr>\n",
       "  </thead>\n",
       "  <tbody>\n",
       "    <tr>\n",
       "      <th>1004</th>\n",
       "      <td>15</td>\n",
       "      <td>BOYACÁ</td>\n",
       "      <td>OCCIDENTE</td>\n",
       "      <td>15176</td>\n",
       "      <td>CHIQUINQUIRÁ</td>\n",
       "      <td>215176001131</td>\n",
       "      <td>I.E. TECNICA LOS COMUNEROS</td>\n",
       "      <td>215176000305</td>\n",
       "      <td>SEDE SANTA TERESA</td>\n",
       "      <td>RURAL</td>\n",
       "      <td>INTERNET REGALIAS \"123\"</td>\n",
       "      <td>COLOMBIA MAS TV</td>\n",
       "      <td>EN OPERACIÓN</td>\n",
       "      <td>RADIO ENLACE</td>\n",
       "      <td>10.0</td>\n",
       "      <td>10.0</td>\n",
       "      <td>09/06/2024 12:00:00 AM</td>\n",
       "      <td>5.623393e+06</td>\n",
       "      <td>-7.371558e+07</td>\n",
       "    </tr>\n",
       "    <tr>\n",
       "      <th>1802</th>\n",
       "      <td>15</td>\n",
       "      <td>BOYACÁ</td>\n",
       "      <td>OCCIDENTE</td>\n",
       "      <td>15681</td>\n",
       "      <td>SAN PABLO DE BORBUR</td>\n",
       "      <td>315681000331</td>\n",
       "      <td>I.E. TECNICA PABLO VALETTE</td>\n",
       "      <td>215681000221</td>\n",
       "      <td>ESC SAN RAFAEL</td>\n",
       "      <td>RURAL</td>\n",
       "      <td>SIN PROYECTO</td>\n",
       "      <td>SIN OPERADOR</td>\n",
       "      <td>SIN SERVICIO</td>\n",
       "      <td>NaN</td>\n",
       "      <td>NaN</td>\n",
       "      <td>NaN</td>\n",
       "      <td>NaN</td>\n",
       "      <td>5.638382e+00</td>\n",
       "      <td>-7.412672e+01</td>\n",
       "    </tr>\n",
       "  </tbody>\n",
       "</table>\n",
       "</div>"
      ],
      "text/plain": [
       "      CÓDIGO DEPARTAMENTO DEPARTAMENTO  PROVINCIA  CÓDIGO MUNICIPIO  \\\n",
       "1004                   15       BOYACÁ  OCCIDENTE             15176   \n",
       "1802                   15       BOYACÁ  OCCIDENTE             15681   \n",
       "\n",
       "                MUNICIPIO  CODIGO DANE INSTITUCION EDUCATIVA  \\\n",
       "1004         CHIQUINQUIRÁ                       215176001131   \n",
       "1802  SAN PABLO DE BORBUR                       315681000331   \n",
       "\n",
       "     NOMBRE INSTITUCION EDUCATIVA  CODIGO DANE SEDE NOMBRE SEDE EDUCATIVA  \\\n",
       "1004   I.E. TECNICA LOS COMUNEROS      215176000305     SEDE SANTA TERESA   \n",
       "1802   I.E. TECNICA PABLO VALETTE      215681000221        ESC SAN RAFAEL   \n",
       "\n",
       "       ZONA PROYECTOS DE CONECTIVIDAD 2024         OPERADOR        ESTADO  \\\n",
       "1004  RURAL        INTERNET REGALIAS \"123\"  COLOMBIA MAS TV  EN OPERACIÓN   \n",
       "1802  RURAL                   SIN PROYECTO     SIN OPERADOR  SIN SERVICIO   \n",
       "\n",
       "     MEDIO DE ENLACE  ANCHO DE BANDA DE SUBIDA (MB)  \\\n",
       "1004    RADIO ENLACE                           10.0   \n",
       "1802             NaN                            NaN   \n",
       "\n",
       "      ANCHO DE BANDA DESCARGA (MB) FINALIZACIÓN DEL CONTRATO       LATITUD  \\\n",
       "1004                          10.0    09/06/2024 12:00:00 AM  5.623393e+06   \n",
       "1802                           NaN                       NaN  5.638382e+00   \n",
       "\n",
       "          LONGITUD  \n",
       "1004 -7.371558e+07  \n",
       "1802 -7.412672e+01  "
      ]
     },
     "execution_count": 62,
     "metadata": {},
     "output_type": "execute_result"
    }
   ],
   "source": [
    "#Devolver la fila 1005 y la fila 1803.\n",
    "\n",
    "df.loc[[1004,1802]]"
   ]
  },
  {
   "cell_type": "code",
   "execution_count": 63,
   "metadata": {},
   "outputs": [
    {
     "data": {
      "text/plain": [
       "count    2006.0\n",
       "mean       15.0\n",
       "std         0.0\n",
       "min        15.0\n",
       "25%        15.0\n",
       "50%        15.0\n",
       "75%        15.0\n",
       "max        15.0\n",
       "Name: CÓDIGO DEPARTAMENTO, dtype: float64"
      ]
     },
     "execution_count": 63,
     "metadata": {},
     "output_type": "execute_result"
    }
   ],
   "source": [
    "#Generar estadísticas descriptivas para cada columna.\n",
    "#Columna \"CÓDIGO DEPARTAMENTO\"\n",
    "\n",
    "df[\"CÓDIGO DEPARTAMENTO\"].describe()"
   ]
  },
  {
   "cell_type": "code",
   "execution_count": 64,
   "metadata": {},
   "outputs": [
    {
     "data": {
      "text/plain": [
       "count       2006\n",
       "unique         1\n",
       "top       BOYACÁ\n",
       "freq        2006\n",
       "Name: DEPARTAMENTO, dtype: object"
      ]
     },
     "execution_count": 64,
     "metadata": {},
     "output_type": "execute_result"
    }
   ],
   "source": [
    "#Generar estadísticas descriptivas para cada columna.\n",
    "#Columna \"DEPARTAMENTO\"\n",
    "\n",
    "df.DEPARTAMENTO.describe()"
   ]
  },
  {
   "cell_type": "code",
   "execution_count": 65,
   "metadata": {},
   "outputs": [
    {
     "data": {
      "text/plain": [
       "count          2006\n",
       "unique           13\n",
       "top       OCCIDENTE\n",
       "freq            418\n",
       "Name: PROVINCIA, dtype: object"
      ]
     },
     "execution_count": 65,
     "metadata": {},
     "output_type": "execute_result"
    }
   ],
   "source": [
    "#Generar estadísticas descriptivas para cada columna.\n",
    "#Columna \"PROVINCIA\"\n",
    "\n",
    "df.PROVINCIA.describe()"
   ]
  },
  {
   "cell_type": "code",
   "execution_count": 66,
   "metadata": {},
   "outputs": [
    {
     "data": {
      "text/plain": [
       "count     2006.000000\n",
       "mean     15485.531406\n",
       "std        245.337591\n",
       "min      15001.000000\n",
       "25%      15244.000000\n",
       "50%      15514.000000\n",
       "75%      15690.000000\n",
       "max      15897.000000\n",
       "Name: CÓDIGO MUNICIPIO, dtype: float64"
      ]
     },
     "execution_count": 66,
     "metadata": {},
     "output_type": "execute_result"
    }
   ],
   "source": [
    "#Generar estadísticas descriptivas para cada columna.\n",
    "#Columna \"CÓDIGO MUNICIPIO\"\n",
    "\n",
    "df[\"CÓDIGO MUNICIPIO\"].describe()"
   ]
  },
  {
   "cell_type": "code",
   "execution_count": 67,
   "metadata": {},
   "outputs": [
    {
     "data": {
      "text/plain": [
       "count       2006\n",
       "unique       123\n",
       "top       SABOYÁ\n",
       "freq          48\n",
       "Name: MUNICIPIO, dtype: object"
      ]
     },
     "execution_count": 67,
     "metadata": {},
     "output_type": "execute_result"
    }
   ],
   "source": [
    "#Generar estadísticas descriptivas para cada columna.\n",
    "#Columna \"MUNICIPIO\"\n",
    "\n",
    "df.MUNICIPIO.describe()"
   ]
  },
  {
   "cell_type": "code",
   "execution_count": 68,
   "metadata": {},
   "outputs": [
    {
     "data": {
      "text/plain": [
       "count    2.006000e+03\n",
       "mean     1.850240e+11\n",
       "std      7.764571e+10\n",
       "min      1.150010e+11\n",
       "25%      1.155070e+11\n",
       "50%      2.151040e+11\n",
       "75%      2.156730e+11\n",
       "max      4.158390e+11\n",
       "Name: CODIGO DANE INSTITUCION EDUCATIVA, dtype: float64"
      ]
     },
     "execution_count": 68,
     "metadata": {},
     "output_type": "execute_result"
    }
   ],
   "source": [
    "#Generar estadísticas descriptivas para cada columna.\n",
    "#Columna \"CODIGO DANE INSTITUCION EDUCATIVA\"\n",
    "\n",
    "df[\"CODIGO DANE INSTITUCION EDUCATIVA\"].describe()\n"
   ]
  },
  {
   "cell_type": "code",
   "execution_count": 69,
   "metadata": {},
   "outputs": [
    {
     "data": {
      "text/plain": [
       "count                          2006\n",
       "unique                          251\n",
       "top       I.E. JORGE ELIECER GAITAN\n",
       "freq                             35\n",
       "Name: NOMBRE INSTITUCION EDUCATIVA, dtype: object"
      ]
     },
     "execution_count": 69,
     "metadata": {},
     "output_type": "execute_result"
    }
   ],
   "source": [
    "#Generar estadísticas descriptivas para cada columna.\n",
    "#Columna \"NOMBRE INSTITUCION EDUCATIVA\"\n",
    "\n",
    "df[\"NOMBRE INSTITUCION EDUCATIVA\"].describe()"
   ]
  },
  {
   "cell_type": "code",
   "execution_count": 70,
   "metadata": {},
   "outputs": [
    {
     "data": {
      "text/plain": [
       "count    2.006000e+03\n",
       "mean     2.067093e+11\n",
       "std      3.986268e+10\n",
       "min      1.150220e+11\n",
       "25%      2.151830e+11\n",
       "50%      2.154800e+11\n",
       "75%      2.156810e+11\n",
       "max      4.158390e+11\n",
       "Name: CODIGO DANE SEDE, dtype: float64"
      ]
     },
     "execution_count": 70,
     "metadata": {},
     "output_type": "execute_result"
    }
   ],
   "source": [
    "#Generar estadísticas descriptivas para cada columna.\n",
    "#Columna \"CODIGO DANE SEDE\"\n",
    "\n",
    "df[\"CODIGO DANE SEDE\"].describe()"
   ]
  },
  {
   "cell_type": "code",
   "execution_count": 71,
   "metadata": {},
   "outputs": [
    {
     "data": {
      "text/plain": [
       "count         2006\n",
       "unique        1757\n",
       "top       CONC URB\n",
       "freq            15\n",
       "Name: NOMBRE SEDE EDUCATIVA, dtype: object"
      ]
     },
     "execution_count": 71,
     "metadata": {},
     "output_type": "execute_result"
    }
   ],
   "source": [
    "#Generar estadísticas descriptivas para cada columna.\n",
    "#Columna \"NOMBRE SEDE EDUCATIVA\"\n",
    "\n",
    "df[\"NOMBRE SEDE EDUCATIVA\"].describe()"
   ]
  },
  {
   "cell_type": "code",
   "execution_count": 72,
   "metadata": {},
   "outputs": [
    {
     "data": {
      "text/plain": [
       "count      2006\n",
       "unique        2\n",
       "top       RURAL\n",
       "freq       1734\n",
       "Name: ZONA, dtype: object"
      ]
     },
     "execution_count": 72,
     "metadata": {},
     "output_type": "execute_result"
    }
   ],
   "source": [
    "#Generar estadísticas descriptivas para cada columna.\n",
    "#Columna Zona\n",
    "\n",
    "df.ZONA.describe()"
   ]
  },
  {
   "cell_type": "code",
   "execution_count": 73,
   "metadata": {},
   "outputs": [
    {
     "data": {
      "text/plain": [
       "count             2006\n",
       "unique               4\n",
       "top       SIN PROYECTO\n",
       "freq               902\n",
       "Name: PROYECTOS DE CONECTIVIDAD 2024, dtype: object"
      ]
     },
     "execution_count": 73,
     "metadata": {},
     "output_type": "execute_result"
    }
   ],
   "source": [
    "#Generar estadísticas descriptivas para cada columna.\n",
    "#Columna Proyectos de conectividad 2024\n",
    "\n",
    "df[\"PROYECTOS DE CONECTIVIDAD 2024\"].describe()"
   ]
  },
  {
   "cell_type": "code",
   "execution_count": 74,
   "metadata": {},
   "outputs": [
    {
     "data": {
      "text/plain": [
       "count             2006\n",
       "unique               4\n",
       "top       SIN OPERADOR\n",
       "freq               902\n",
       "Name: OPERADOR, dtype: object"
      ]
     },
     "execution_count": 74,
     "metadata": {},
     "output_type": "execute_result"
    }
   ],
   "source": [
    "#Generar estadísticas descriptivas para cada columna.\n",
    "#Columna \"OPERADOR\"\n",
    "\n",
    "df.OPERADOR.describe()"
   ]
  },
  {
   "cell_type": "code",
   "execution_count": 75,
   "metadata": {},
   "outputs": [
    {
     "data": {
      "text/plain": [
       "count             2006\n",
       "unique               4\n",
       "top       SIN SERVICIO\n",
       "freq               902\n",
       "Name: ESTADO, dtype: object"
      ]
     },
     "execution_count": 75,
     "metadata": {},
     "output_type": "execute_result"
    }
   ],
   "source": [
    "#Generar estadísticas descriptivas para cada columna.\n",
    "#Columna Estado\n",
    "\n",
    "df.ESTADO.describe()"
   ]
  },
  {
   "cell_type": "code",
   "execution_count": 76,
   "metadata": {},
   "outputs": [
    {
     "data": {
      "text/plain": [
       "count              123\n",
       "unique               3\n",
       "top       RADIO ENLACE\n",
       "freq                81\n",
       "Name: MEDIO DE ENLACE, dtype: object"
      ]
     },
     "execution_count": 76,
     "metadata": {},
     "output_type": "execute_result"
    }
   ],
   "source": [
    "#Generar estadísticas descriptivas para cada columna.\n",
    "#Columna \"MEDIO DE ENLACE\"\n",
    "\n",
    "\n",
    "df[\"MEDIO DE ENLACE\"].describe()"
   ]
  },
  {
   "cell_type": "code",
   "execution_count": 77,
   "metadata": {},
   "outputs": [
    {
     "data": {
      "text/plain": [
       "count    804.000000\n",
       "mean       4.254664\n",
       "std        2.475703\n",
       "min        3.000000\n",
       "25%        3.000000\n",
       "50%        3.000000\n",
       "75%        3.750000\n",
       "max       10.000000\n",
       "Name: ANCHO DE BANDA DE SUBIDA (MB), dtype: float64"
      ]
     },
     "execution_count": 77,
     "metadata": {},
     "output_type": "execute_result"
    }
   ],
   "source": [
    "#Generar estadísticas descriptivas para cada columna.\n",
    "#Columna \"ANCHO DE BANDA DE SUBIDA (MB)\"\n",
    "\n",
    "\n",
    "df[\"ANCHO DE BANDA DE SUBIDA (MB)\"].describe()"
   ]
  },
  {
   "cell_type": "code",
   "execution_count": 78,
   "metadata": {},
   "outputs": [
    {
     "data": {
      "text/plain": [
       "count    1104.000000\n",
       "mean       14.169384\n",
       "std         3.460871\n",
       "min        10.000000\n",
       "25%        12.000000\n",
       "50%        12.000000\n",
       "75%        15.000000\n",
       "max        21.000000\n",
       "Name: ANCHO DE BANDA DESCARGA (MB), dtype: float64"
      ]
     },
     "execution_count": 78,
     "metadata": {},
     "output_type": "execute_result"
    }
   ],
   "source": [
    "#Generar estadísticas descriptivas para cada columna.\n",
    "#Columna \"ANCHO DE BANDA DESCARGA (MB)\"\n",
    "\n",
    "df[\"ANCHO DE BANDA DESCARGA (MB)\"].describe()"
   ]
  },
  {
   "cell_type": "code",
   "execution_count": 79,
   "metadata": {},
   "outputs": [
    {
     "data": {
      "text/plain": [
       "count                       1104\n",
       "unique                         3\n",
       "top       12/01/2032 12:00:00 AM\n",
       "freq                         681\n",
       "Name: FINALIZACIÓN DEL CONTRATO, dtype: object"
      ]
     },
     "execution_count": 79,
     "metadata": {},
     "output_type": "execute_result"
    }
   ],
   "source": [
    "#Generar estadísticas descriptivas para cada columna.\n",
    "#Columna \"FINALIZACIÓN DEL CONTRATO\"\n",
    "\n",
    "df[\"FINALIZACIÓN DEL CONTRATO\"].describe()"
   ]
  },
  {
   "cell_type": "code",
   "execution_count": 80,
   "metadata": {},
   "outputs": [
    {
     "data": {
      "text/plain": [
       "count    1.926000e+03\n",
       "mean     3.092627e+12\n",
       "std      1.357229e+14\n",
       "min      2.568810e+00\n",
       "25%      5.453151e+00\n",
       "50%      5.652916e+00\n",
       "75%      5.934404e+00\n",
       "max      5.956363e+15\n",
       "Name: LATITUD, dtype: float64"
      ]
     },
     "execution_count": 80,
     "metadata": {},
     "output_type": "execute_result"
    }
   ],
   "source": [
    "#Generar estadísticas descriptivas para cada columna.\n",
    "#Columna \"LATITUD\"\n",
    "\n",
    "df[\"LATITUD\"].describe()\n"
   ]
  },
  {
   "cell_type": "code",
   "execution_count": 81,
   "metadata": {},
   "outputs": [
    {
     "data": {
      "text/plain": [
       "count    1.926000e+03\n",
       "mean    -3.818683e+12\n",
       "std      1.675775e+14\n",
       "min     -7.354342e+15\n",
       "25%     -7.356326e+01\n",
       "50%     -7.328114e+01\n",
       "75%     -7.282414e+01\n",
       "max      7.322443e+01\n",
       "Name: LONGITUD, dtype: float64"
      ]
     },
     "execution_count": 81,
     "metadata": {},
     "output_type": "execute_result"
    }
   ],
   "source": [
    "#Generar estadísticas descriptivas para cada columna.\n",
    "#Columna \"LONGITUD\"\n",
    "\n",
    "df.LONGITUD.describe()"
   ]
  },
  {
   "cell_type": "code",
   "execution_count": null,
   "metadata": {},
   "outputs": [
    {
     "data": {
      "text/plain": [
       "np.int64(123)"
      ]
     },
     "execution_count": 99,
     "metadata": {},
     "output_type": "execute_result"
    }
   ],
   "source": [
    "#contar la cantidad de valores no nulos (no vacíos) en la columna MEDIO DE ENLACE\n",
    "\n",
    "df[\"MEDIO DE ENLACE\"].count()"
   ]
  },
  {
   "cell_type": "code",
   "execution_count": 101,
   "metadata": {},
   "outputs": [
    {
     "data": {
      "text/plain": [
       "np.int64(1883)"
      ]
     },
     "execution_count": 101,
     "metadata": {},
     "output_type": "execute_result"
    }
   ],
   "source": [
    "#mostrar la cantidad de valores nulos en la columna MEDIO DE ENLACE\n",
    "\n",
    "df[\"MEDIO DE ENLACE\"].isnull().sum()"
   ]
  },
  {
   "cell_type": "code",
   "execution_count": 102,
   "metadata": {},
   "outputs": [
    {
     "data": {
      "text/plain": [
       "np.int64(804)"
      ]
     },
     "execution_count": 102,
     "metadata": {},
     "output_type": "execute_result"
    }
   ],
   "source": [
    "#contar la cantidad de valores no nulos (no vacíos) en la columna ANCHO DE BANDA DE SUBIDA (MB)\n",
    "\n",
    "df[\"ANCHO DE BANDA DE SUBIDA (MB)\"].count()"
   ]
  },
  {
   "cell_type": "code",
   "execution_count": 103,
   "metadata": {},
   "outputs": [
    {
     "data": {
      "text/plain": [
       "np.int64(1202)"
      ]
     },
     "execution_count": 103,
     "metadata": {},
     "output_type": "execute_result"
    }
   ],
   "source": [
    "#mostrar la cantidad de valores nulos en la columna ANCHO DE BANDA DE SUBIDA (MB)\n",
    "\n",
    "df[\"ANCHO DE BANDA DE SUBIDA (MB)\"].isnull().sum()"
   ]
  },
  {
   "cell_type": "code",
   "execution_count": 105,
   "metadata": {},
   "outputs": [
    {
     "data": {
      "text/plain": [
       "np.int64(1104)"
      ]
     },
     "execution_count": 105,
     "metadata": {},
     "output_type": "execute_result"
    }
   ],
   "source": [
    "#contar la cantidad de valores no nulos (no vacíos) en la columna ANCHO DE BANDA DESCARGA (MB)\n",
    "\n",
    "df[\"ANCHO DE BANDA DESCARGA (MB)\"].count()"
   ]
  },
  {
   "cell_type": "code",
   "execution_count": 106,
   "metadata": {},
   "outputs": [
    {
     "data": {
      "text/plain": [
       "np.int64(902)"
      ]
     },
     "execution_count": 106,
     "metadata": {},
     "output_type": "execute_result"
    }
   ],
   "source": [
    "#mostrar la cantidad de valores nulos en la columna ANCHO DE BANDA DESCARGA (MB)\n",
    "\n",
    "df[\"ANCHO DE BANDA DESCARGA (MB)\"].isnull().sum()"
   ]
  },
  {
   "cell_type": "code",
   "execution_count": 111,
   "metadata": {},
   "outputs": [
    {
     "data": {
      "text/plain": [
       "np.int64(1104)"
      ]
     },
     "execution_count": 111,
     "metadata": {},
     "output_type": "execute_result"
    }
   ],
   "source": [
    "#contar la cantidad de valores no nulos (no vacíos) en la columna FINALIZACIÓN DEL CONTRATO\n",
    "\n",
    "df[\"FINALIZACIÓN DEL CONTRATO\"].count()"
   ]
  },
  {
   "cell_type": "code",
   "execution_count": 110,
   "metadata": {},
   "outputs": [
    {
     "data": {
      "text/plain": [
       "np.int64(902)"
      ]
     },
     "execution_count": 110,
     "metadata": {},
     "output_type": "execute_result"
    }
   ],
   "source": [
    "#mostrar la cantidad de valores nulos en la columna FINALIZACIÓN DEL CONTRATO\n",
    "\n",
    "df[\"FINALIZACIÓN DEL CONTRATO\"].isnull().sum()"
   ]
  },
  {
   "cell_type": "code",
   "execution_count": null,
   "metadata": {},
   "outputs": [
    {
     "data": {
      "text/plain": [
       "np.int64(1926)"
      ]
     },
     "execution_count": 113,
     "metadata": {},
     "output_type": "execute_result"
    }
   ],
   "source": [
    "#contar la cantidad de valores no nulos (no vacíos) en la columna LATITUD\n",
    "\n",
    "df.LATITUD.count()"
   ]
  },
  {
   "cell_type": "code",
   "execution_count": null,
   "metadata": {},
   "outputs": [
    {
     "data": {
      "text/plain": [
       "np.int64(80)"
      ]
     },
     "execution_count": 112,
     "metadata": {},
     "output_type": "execute_result"
    }
   ],
   "source": [
    "#mostrar la cantidad de valores nulos en la columna LATITUD\n",
    "\n",
    "df.LATITUD.isnull().sum()"
   ]
  },
  {
   "cell_type": "code",
   "execution_count": 115,
   "metadata": {},
   "outputs": [
    {
     "data": {
      "text/plain": [
       "np.int64(1926)"
      ]
     },
     "execution_count": 115,
     "metadata": {},
     "output_type": "execute_result"
    }
   ],
   "source": [
    "#contar la cantidad de valores no nulos (no vacíos) en la columna LONGITUD\n",
    "\n",
    "df.LONGITUD.count()"
   ]
  },
  {
   "cell_type": "code",
   "execution_count": 116,
   "metadata": {},
   "outputs": [
    {
     "data": {
      "text/plain": [
       "np.int64(80)"
      ]
     },
     "execution_count": 116,
     "metadata": {},
     "output_type": "execute_result"
    }
   ],
   "source": [
    "#mostrar la cantidad de valores nulos en la columna LONGITUD\n",
    "\n",
    "df.LONGITUD.isnull().sum()"
   ]
  },
  {
   "cell_type": "code",
   "execution_count": null,
   "metadata": {},
   "outputs": [
    {
     "data": {
      "text/plain": [
       "np.float64(14.169384057971014)"
      ]
     },
     "execution_count": 117,
     "metadata": {},
     "output_type": "execute_result"
    }
   ],
   "source": [
    "# Calculamos el promedio del ancho de banda de descarga (en megabytes) ignorando valores nulos.\n",
    "# Este valor representa la velocidad promedio con la que se descargan datos desde internet en los puntos medidos.\n",
    "\n",
    "df[\"ANCHO DE BANDA DESCARGA (MB)\"].mean()"
   ]
  },
  {
   "cell_type": "code",
   "execution_count": null,
   "metadata": {},
   "outputs": [
    {
     "data": {
      "text/plain": [
       "np.float64(4.254664179104478)"
      ]
     },
     "execution_count": 118,
     "metadata": {},
     "output_type": "execute_result"
    }
   ],
   "source": [
    "# Calculamos el promedio del ancho de banda de subida (en megabytes) ignorando valores nulos.\n",
    "# Este valor indica la velocidad promedio con la que se suben datos a internet desde los puntos medidos.\n",
    "\n",
    "df[\"ANCHO DE BANDA DE SUBIDA (MB)\"].mean()"
   ]
  },
  {
   "cell_type": "code",
   "execution_count": null,
   "metadata": {},
   "outputs": [
    {
     "data": {
      "text/plain": [
       "np.float64(3.460871184738338)"
      ]
     },
     "execution_count": 119,
     "metadata": {},
     "output_type": "execute_result"
    }
   ],
   "source": [
    "# Calculamos la desviación estándar del ancho de banda de descarga (en MB).\n",
    "# Este valor nos indica cuánto varían las velocidades de descarga respecto al promedio.\n",
    "# Una desviación estándar de aproximadamente 3.46 MB sugiere que hay diferencias moderadas entre las velocidades medidas.\n",
    "\n",
    "\n",
    "df[\"ANCHO DE BANDA DESCARGA (MB)\"].std()"
   ]
  },
  {
   "cell_type": "code",
   "execution_count": null,
   "metadata": {},
   "outputs": [
    {
     "data": {
      "text/plain": [
       "np.float64(2.475702602092569)"
      ]
     },
     "execution_count": 120,
     "metadata": {},
     "output_type": "execute_result"
    }
   ],
   "source": [
    "# Calculamos la desviación estándar del ancho de banda de subida (en MB).\n",
    "# Este valor muestra la variabilidad de las velocidades de subida.\n",
    "# En este caso, la desviación estándar es de aproximadamente 2.48 MB, lo que indica una variación algo menor que la de descarga.\n",
    "\n",
    "\n",
    "df[\"ANCHO DE BANDA DE SUBIDA (MB)\"].std()"
   ]
  },
  {
   "cell_type": "code",
   "execution_count": null,
   "metadata": {},
   "outputs": [
    {
     "data": {
      "text/plain": [
       "np.float64(10.0)"
      ]
     },
     "execution_count": 121,
     "metadata": {},
     "output_type": "execute_result"
    }
   ],
   "source": [
    "# Obtenemos el valor mínimo del ancho de banda de descarga (en MB).\n",
    "# Este valor representa la velocidad de descarga más baja registrada entre todos los datos disponibles.\n",
    "# En este caso, la velocidad mínima de descarga es de 10 MB.\n",
    "\n",
    "df[\"ANCHO DE BANDA DESCARGA (MB)\"].min()"
   ]
  },
  {
   "cell_type": "code",
   "execution_count": null,
   "metadata": {},
   "outputs": [
    {
     "data": {
      "text/plain": [
       "np.float64(3.0)"
      ]
     },
     "execution_count": 122,
     "metadata": {},
     "output_type": "execute_result"
    }
   ],
   "source": [
    "# Obtenemos el valor mínimo del ancho de banda de subida (en MB).\n",
    "# Este resultado indica la velocidad de subida más baja medida.\n",
    "# Aquí, la velocidad mínima de subida es de 3 MB.\n",
    "\n",
    "\n",
    "df[\"ANCHO DE BANDA DE SUBIDA (MB)\"].min()"
   ]
  },
  {
   "cell_type": "code",
   "execution_count": null,
   "metadata": {},
   "outputs": [
    {
     "data": {
      "text/plain": [
       "np.float64(21.0)"
      ]
     },
     "execution_count": 123,
     "metadata": {},
     "output_type": "execute_result"
    }
   ],
   "source": [
    "# Obtenemos el valor máximo del ancho de banda de descarga (en MB).\n",
    "# Este valor representa la mayor velocidad de descarga registrada en los datos.\n",
    "# Aquí, la velocidad maxima de descarga es de 21 MB.\n",
    "\n",
    "df[\"ANCHO DE BANDA DESCARGA (MB)\"].max()"
   ]
  },
  {
   "cell_type": "code",
   "execution_count": null,
   "metadata": {},
   "outputs": [
    {
     "data": {
      "text/plain": [
       "np.float64(10.0)"
      ]
     },
     "execution_count": 125,
     "metadata": {},
     "output_type": "execute_result"
    }
   ],
   "source": [
    "# Obtenemos el valor máximo del ancho de banda de subida (en MB).\n",
    "# Este resultado indica la mayor velocidad de subida registrada.\n",
    "# Aquí, la velocidad maxima de subida es de 10 MB.\n",
    "\n",
    "df[\"ANCHO DE BANDA DE SUBIDA (MB)\"].max()"
   ]
  },
  {
   "cell_type": "code",
   "execution_count": 130,
   "metadata": {},
   "outputs": [
    {
     "data": {
      "text/plain": [
       "np.float64(12.0)"
      ]
     },
     "execution_count": 130,
     "metadata": {},
     "output_type": "execute_result"
    }
   ],
   "source": [
    "# Calculamos la mediana del ancho de banda de descarga (en MB).\n",
    "# Este resultado indica la mediana, que es el valor central, útil para entender la tendencia general sin que los valores extremos influyan.\n",
    "\n",
    "\n",
    "df[\"ANCHO DE BANDA DESCARGA (MB)\"].median()"
   ]
  },
  {
   "cell_type": "code",
   "execution_count": 129,
   "metadata": {},
   "outputs": [
    {
     "data": {
      "text/plain": [
       "np.float64(3.0)"
      ]
     },
     "execution_count": 129,
     "metadata": {},
     "output_type": "execute_result"
    }
   ],
   "source": [
    "# Calculamos la mediana del ancho de banda de subida (en MB).\n",
    "# Este resultado indica la velocidad \"típica\" de subida, ignorando valores muy altos o muy bajos.\n",
    "\n",
    "\n",
    "df[\"ANCHO DE BANDA DE SUBIDA (MB)\"].median()"
   ]
  },
  {
   "cell_type": "code",
   "execution_count": null,
   "metadata": {},
   "outputs": [
    {
     "data": {
      "text/plain": [
       "0    12.0\n",
       "Name: ANCHO DE BANDA DESCARGA (MB), dtype: float64"
      ]
     },
     "execution_count": 131,
     "metadata": {},
     "output_type": "execute_result"
    }
   ],
   "source": [
    "# Calculamos la moda del ancho de banda de descarga (en MB).\n",
    "# La moda es el valor que más veces se repite en la columna, lo que puede indicar la velocidad más común, en este caso es 12 Megas\n",
    "\n",
    "df[\"ANCHO DE BANDA DESCARGA (MB)\"].mode()"
   ]
  },
  {
   "cell_type": "code",
   "execution_count": null,
   "metadata": {},
   "outputs": [
    {
     "data": {
      "text/plain": [
       "0    3.0\n",
       "Name: ANCHO DE BANDA DE SUBIDA (MB), dtype: float64"
      ]
     },
     "execution_count": 133,
     "metadata": {},
     "output_type": "execute_result"
    }
   ],
   "source": [
    "# Calculamos la moda del ancho de banda de subida (en MB).\n",
    "# Muestra la velocidad de subida que se repite con mayor frecuencia en el conjunto de datos, en este caso  3.0 Megas\n",
    "\n",
    "df[\"ANCHO DE BANDA DE SUBIDA (MB)\"].mode()"
   ]
  },
  {
   "cell_type": "code",
   "execution_count": null,
   "metadata": {},
   "outputs": [
    {
     "data": {
      "text/plain": [
       "np.float64(12.0)"
      ]
     },
     "execution_count": 134,
     "metadata": {},
     "output_type": "execute_result"
    }
   ],
   "source": [
    "# La función .quantile() devuelve el valor del cuantil  de ancho de banda de descarga (en MB)\n",
    "# El resultado indica que el 50% de los datos están por debajo de 12 MB y el otro 50% está por encima de este valor.\n",
    "\n",
    "df[\"ANCHO DE BANDA DESCARGA (MB)\"].quantile()"
   ]
  },
  {
   "cell_type": "code",
   "execution_count": null,
   "metadata": {},
   "outputs": [
    {
     "data": {
      "text/plain": [
       "np.float64(3.0)"
      ]
     },
     "execution_count": 135,
     "metadata": {},
     "output_type": "execute_result"
    }
   ],
   "source": [
    "#  La función .quantile() devuelve el valor del cuantil de ancho de banda de subida (en MB) \n",
    "# El resultado indica que el 50% de los datos están por debajo de 3.0 MB y el otro 50% está por encima de este valor.\n",
    "\n",
    "\n",
    "df[\"ANCHO DE BANDA DE SUBIDA (MB)\"].quantile()"
   ]
  },
  {
   "cell_type": "code",
   "execution_count": null,
   "metadata": {},
   "outputs": [
    {
     "data": {
      "text/plain": [
       "array(['EN OPERACIÓN', 'PENDIENTE INICIO OPERACIÓN',\n",
       "       'PENDIENTE INICIO DE OPERACIÓN', 'SIN SERVICIO'], dtype=object)"
      ]
     },
     "execution_count": 90,
     "metadata": {},
     "output_type": "execute_result"
    }
   ],
   "source": [
    "#Mostrar los valores unicos en la columna \"Estado\"\n",
    "\n",
    "df.ESTADO.unique()"
   ]
  },
  {
   "cell_type": "code",
   "execution_count": null,
   "metadata": {},
   "outputs": [
    {
     "data": {
      "text/plain": [
       "array([nan, 'RADIO ENLACE', 'SATELITAL', 'FIBRA'], dtype=object)"
      ]
     },
     "execution_count": 91,
     "metadata": {},
     "output_type": "execute_result"
    }
   ],
   "source": [
    "#Mostrar los valores unicos en la columna \"Medio de Enlace\"\n",
    "\n",
    "df[\"MEDIO DE ENLACE\"].unique()"
   ]
  },
  {
   "cell_type": "code",
   "execution_count": null,
   "metadata": {},
   "outputs": [
    {
     "data": {
      "text/plain": [
       "array(['UNIÓN TEMPORAL DE ETB NET COLOMBIA CONECTADA',\n",
       "       'ALIANZA PUBLICA PARA EL DESARROLLO INTEGRAL -ALDESARROLLO',\n",
       "       'COLOMBIA MAS TV', 'SIN OPERADOR'], dtype=object)"
      ]
     },
     "execution_count": 92,
     "metadata": {},
     "output_type": "execute_result"
    }
   ],
   "source": [
    "#Mostrar los valores unicos en la columna \"Operador\"\n",
    "\n",
    "df.OPERADOR.unique()"
   ]
  },
  {
   "cell_type": "code",
   "execution_count": null,
   "metadata": {},
   "outputs": [
    {
     "data": {
      "text/plain": [
       "array(['RURAL', 'URBANA'], dtype=object)"
      ]
     },
     "execution_count": 93,
     "metadata": {},
     "output_type": "execute_result"
    }
   ],
   "source": [
    "#Mostrar los valores unicos en la columna \"ZONA\"\n",
    "\n",
    "df.ZONA.unique()"
   ]
  }
 ],
 "metadata": {
  "kernelspec": {
   "display_name": "Python 3",
   "language": "python",
   "name": "python3"
  },
  "language_info": {
   "codemirror_mode": {
    "name": "ipython",
    "version": 3
   },
   "file_extension": ".py",
   "mimetype": "text/x-python",
   "name": "python",
   "nbconvert_exporter": "python",
   "pygments_lexer": "ipython3",
   "version": "3.13.2"
  }
 },
 "nbformat": 4,
 "nbformat_minor": 2
}
